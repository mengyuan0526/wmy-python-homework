{
    "nbformat_minor": 2,
    "cells": [
        {
            "cell_type": "markdown",
            "metadata": {},
            "source": [
                "# Exercise 9: Which stocks move together?\n",
                "\n",
                "In the previous exercise, you clustered companies by their daily stock price movements.  So which company have stock prices that tend to change in the same way?  Now inspect the cluster labels from your clustering to find out."
            ]
        },
        {
            "cell_type": "markdown",
            "metadata": {},
            "source": [
                "From the course _Transition to Data Science_. [Buy the entire course for just $10](https://www.udemy.com/transition-to-data-science-in-python/?couponCode=CLUSTER-NBS) for many more exercises and helpful video lectures."
            ]
        },
        {
            "cell_type": "markdown",
            "metadata": {},
            "source": [
                "**Step 1:** Load the data _(written for you)_."
            ]
        },
        {
            "cell_type": "code",
            "execution_count": 13,
            "metadata": {},
            "outputs": [],
            "source": [
                "import pandas as pd\n",
                "\n",
                "fn = '../datasets/company-stock-movements-2010-2015-incl.csv'\n",
                "stocks_df = pd.read_csv(fn, index_col=0)\n"
            ]
        },
        {
            "cell_type": "markdown",
            "metadata": {},
            "source": [
                "**Step 2:** Run your code from the previous exercise _(filled in for you)_."
            ]
        },
        {
            "cell_type": "code",
            "execution_count": 14,
            "metadata": {},
            "outputs": [
                {
                    "data": {
                        "text/plain": "Pipeline(memory=None,\n         steps=[('normalizer', Normalizer(copy=True, norm='l2')),\n                ('kmeans',\n                 KMeans(algorithm='auto', copy_x=True, init='k-means++',\n                        max_iter=300, n_clusters=14, n_init=10, n_jobs=None,\n                        precompute_distances='auto', random_state=None,\n                        tol=0.0001, verbose=0))],\n         verbose=False)"
                    },
                    "execution_count": 14,
                    "metadata": {},
                    "output_type": "execute_result"
                }
            ],
            "source": [
                "companies = list(stocks_df.index)\n",
                "movements = stocks_df.values\n",
                "\n",
                "from sklearn.preprocessing import Normalizer\n",
                "from sklearn.cluster import KMeans\n",
                "from sklearn.pipeline import make_pipeline\n",
                "\n",
                "normalizer = Normalizer()\n",
                "kmeans = KMeans(n_clusters=14)\n",
                "pipeline = make_pipeline(normalizer, kmeans)\n",
                "pipeline.fit(movements)"
            ]
        },
        {
            "cell_type": "markdown",
            "metadata": {},
            "source": [
                "**Step 3:** Use the `.predict()` method of the pipeline to predict the labels for `movements`."
            ]
        },
        {
            "cell_type": "code",
            "execution_count": 15,
            "metadata": {},
            "outputs": [
                {
                    "data": {
                        "text/plain": "array([ 9,  5, 13,  5,  6,  5,  1,  4,  6,  8,  2,  7,  2,  6, 12,  5,  3,\n        9,  5,  1,  6,  4, 12,  6,  7,  6,  5,  8,  0,  6,  6,  0,  6,  7,\n        4, 10,  6,  1,  0,  2,  8,  0,  1,  1,  2,  4,  1,  6,  4,  1,  7,\n        7,  1,  2,  6,  5, 11,  2,  3, 13])"
                    },
                    "execution_count": 15,
                    "metadata": {},
                    "output_type": "execute_result"
                }
            ],
            "source": [
                "labels = pipeline.predict(movements)\n",
                "labels"
            ]
        },
        {
            "cell_type": "markdown",
            "metadata": {},
            "source": [
                "**Step 4:** Align the cluster labels with the list of company names `companies` by creating a DataFrame `df` with `labels` and `companies` as columns."
            ]
        },
        {
            "cell_type": "code",
            "execution_count": 18,
            "metadata": {},
            "outputs": [
                {
                    "data": {
                        "text/html": "<div>\n<style scoped>\n    .dataframe tbody tr th:only-of-type {\n        vertical-align: middle;\n    }\n\n    .dataframe tbody tr th {\n        vertical-align: top;\n    }\n\n    .dataframe thead th {\n        text-align: right;\n    }\n</style>\n<table border=\"1\" class=\"dataframe\">\n  <thead>\n    <tr style=\"text-align: right;\">\n      <th></th>\n      <th>labels</th>\n      <th>companies</th>\n    </tr>\n  </thead>\n  <tbody>\n    <tr>\n      <td>0</td>\n      <td>9</td>\n      <td>Apple</td>\n    </tr>\n    <tr>\n      <td>1</td>\n      <td>5</td>\n      <td>AIG</td>\n    </tr>\n    <tr>\n      <td>2</td>\n      <td>13</td>\n      <td>Amazon</td>\n    </tr>\n    <tr>\n      <td>3</td>\n      <td>5</td>\n      <td>American express</td>\n    </tr>\n    <tr>\n      <td>4</td>\n      <td>6</td>\n      <td>Boeing</td>\n    </tr>\n    <tr>\n      <td>5</td>\n      <td>5</td>\n      <td>Bank of America</td>\n    </tr>\n    <tr>\n      <td>6</td>\n      <td>1</td>\n      <td>British American Tobacco</td>\n    </tr>\n    <tr>\n      <td>7</td>\n      <td>4</td>\n      <td>Canon</td>\n    </tr>\n    <tr>\n      <td>8</td>\n      <td>6</td>\n      <td>Caterpillar</td>\n    </tr>\n    <tr>\n      <td>9</td>\n      <td>8</td>\n      <td>Colgate-Palmolive</td>\n    </tr>\n    <tr>\n      <td>10</td>\n      <td>2</td>\n      <td>ConocoPhillips</td>\n    </tr>\n    <tr>\n      <td>11</td>\n      <td>7</td>\n      <td>Cisco</td>\n    </tr>\n    <tr>\n      <td>12</td>\n      <td>2</td>\n      <td>Chevron</td>\n    </tr>\n    <tr>\n      <td>13</td>\n      <td>6</td>\n      <td>DuPont de Nemours</td>\n    </tr>\n    <tr>\n      <td>14</td>\n      <td>12</td>\n      <td>Dell</td>\n    </tr>\n    <tr>\n      <td>15</td>\n      <td>5</td>\n      <td>Ford</td>\n    </tr>\n    <tr>\n      <td>16</td>\n      <td>3</td>\n      <td>General Electrics</td>\n    </tr>\n    <tr>\n      <td>17</td>\n      <td>9</td>\n      <td>Google/Alphabet</td>\n    </tr>\n    <tr>\n      <td>18</td>\n      <td>5</td>\n      <td>Goldman Sachs</td>\n    </tr>\n    <tr>\n      <td>19</td>\n      <td>1</td>\n      <td>GlaxoSmithKline</td>\n    </tr>\n    <tr>\n      <td>20</td>\n      <td>6</td>\n      <td>Home Depot</td>\n    </tr>\n    <tr>\n      <td>21</td>\n      <td>4</td>\n      <td>Honda</td>\n    </tr>\n    <tr>\n      <td>22</td>\n      <td>12</td>\n      <td>HP</td>\n    </tr>\n    <tr>\n      <td>23</td>\n      <td>6</td>\n      <td>IBM</td>\n    </tr>\n    <tr>\n      <td>24</td>\n      <td>7</td>\n      <td>Intel</td>\n    </tr>\n    <tr>\n      <td>25</td>\n      <td>6</td>\n      <td>Johnson &amp; Johnson</td>\n    </tr>\n    <tr>\n      <td>26</td>\n      <td>5</td>\n      <td>JPMorgan Chase</td>\n    </tr>\n    <tr>\n      <td>27</td>\n      <td>8</td>\n      <td>Kimberly-Clark</td>\n    </tr>\n    <tr>\n      <td>28</td>\n      <td>0</td>\n      <td>Coca Cola</td>\n    </tr>\n    <tr>\n      <td>29</td>\n      <td>6</td>\n      <td>Lookheed Martin</td>\n    </tr>\n    <tr>\n      <td>30</td>\n      <td>6</td>\n      <td>MasterCard</td>\n    </tr>\n    <tr>\n      <td>31</td>\n      <td>0</td>\n      <td>McDonalds</td>\n    </tr>\n    <tr>\n      <td>32</td>\n      <td>6</td>\n      <td>3M</td>\n    </tr>\n    <tr>\n      <td>33</td>\n      <td>7</td>\n      <td>Microsoft</td>\n    </tr>\n    <tr>\n      <td>34</td>\n      <td>4</td>\n      <td>Mitsubishi</td>\n    </tr>\n    <tr>\n      <td>35</td>\n      <td>10</td>\n      <td>Navistar</td>\n    </tr>\n    <tr>\n      <td>36</td>\n      <td>6</td>\n      <td>Northrop Grumman</td>\n    </tr>\n    <tr>\n      <td>37</td>\n      <td>1</td>\n      <td>Novartis</td>\n    </tr>\n    <tr>\n      <td>38</td>\n      <td>0</td>\n      <td>Pepsi</td>\n    </tr>\n    <tr>\n      <td>39</td>\n      <td>2</td>\n      <td>Pfizer</td>\n    </tr>\n    <tr>\n      <td>40</td>\n      <td>8</td>\n      <td>Procter Gamble</td>\n    </tr>\n    <tr>\n      <td>41</td>\n      <td>0</td>\n      <td>Philip Morris</td>\n    </tr>\n    <tr>\n      <td>42</td>\n      <td>1</td>\n      <td>Royal Dutch Shell</td>\n    </tr>\n    <tr>\n      <td>43</td>\n      <td>1</td>\n      <td>SAP</td>\n    </tr>\n    <tr>\n      <td>44</td>\n      <td>2</td>\n      <td>Schlumberger</td>\n    </tr>\n    <tr>\n      <td>45</td>\n      <td>4</td>\n      <td>Sony</td>\n    </tr>\n    <tr>\n      <td>46</td>\n      <td>1</td>\n      <td>Sanofi-Aventis</td>\n    </tr>\n    <tr>\n      <td>47</td>\n      <td>6</td>\n      <td>Symantec</td>\n    </tr>\n    <tr>\n      <td>48</td>\n      <td>4</td>\n      <td>Toyota</td>\n    </tr>\n    <tr>\n      <td>49</td>\n      <td>1</td>\n      <td>Total</td>\n    </tr>\n    <tr>\n      <td>50</td>\n      <td>7</td>\n      <td>Taiwan Semiconductor Manufacturing</td>\n    </tr>\n    <tr>\n      <td>51</td>\n      <td>7</td>\n      <td>Texas instruments</td>\n    </tr>\n    <tr>\n      <td>52</td>\n      <td>1</td>\n      <td>Unilever</td>\n    </tr>\n    <tr>\n      <td>53</td>\n      <td>2</td>\n      <td>Valero Energy</td>\n    </tr>\n    <tr>\n      <td>54</td>\n      <td>6</td>\n      <td>Walgreen</td>\n    </tr>\n    <tr>\n      <td>55</td>\n      <td>5</td>\n      <td>Wells Fargo</td>\n    </tr>\n    <tr>\n      <td>56</td>\n      <td>11</td>\n      <td>Wal-Mart</td>\n    </tr>\n    <tr>\n      <td>57</td>\n      <td>2</td>\n      <td>Exxon</td>\n    </tr>\n    <tr>\n      <td>58</td>\n      <td>3</td>\n      <td>Xerox</td>\n    </tr>\n    <tr>\n      <td>59</td>\n      <td>13</td>\n      <td>Yahoo</td>\n    </tr>\n  </tbody>\n</table>\n</div>",
                        "text/plain": "    labels                           companies\n0        9                               Apple\n1        5                                 AIG\n2       13                              Amazon\n3        5                    American express\n4        6                              Boeing\n5        5                     Bank of America\n6        1            British American Tobacco\n7        4                               Canon\n8        6                         Caterpillar\n9        8                   Colgate-Palmolive\n10       2                      ConocoPhillips\n11       7                               Cisco\n12       2                             Chevron\n13       6                   DuPont de Nemours\n14      12                                Dell\n15       5                                Ford\n16       3                   General Electrics\n17       9                     Google/Alphabet\n18       5                       Goldman Sachs\n19       1                     GlaxoSmithKline\n20       6                          Home Depot\n21       4                               Honda\n22      12                                  HP\n23       6                                 IBM\n24       7                               Intel\n25       6                   Johnson & Johnson\n26       5                      JPMorgan Chase\n27       8                      Kimberly-Clark\n28       0                           Coca Cola\n29       6                     Lookheed Martin\n30       6                          MasterCard\n31       0                           McDonalds\n32       6                                  3M\n33       7                           Microsoft\n34       4                          Mitsubishi\n35      10                            Navistar\n36       6                    Northrop Grumman\n37       1                            Novartis\n38       0                               Pepsi\n39       2                              Pfizer\n40       8                      Procter Gamble\n41       0                       Philip Morris\n42       1                   Royal Dutch Shell\n43       1                                 SAP\n44       2                        Schlumberger\n45       4                                Sony\n46       1                      Sanofi-Aventis\n47       6                            Symantec\n48       4                              Toyota\n49       1                               Total\n50       7  Taiwan Semiconductor Manufacturing\n51       7                   Texas instruments\n52       1                            Unilever\n53       2                       Valero Energy\n54       6                            Walgreen\n55       5                         Wells Fargo\n56      11                            Wal-Mart\n57       2                               Exxon\n58       3                               Xerox\n59      13                               Yahoo"
                    },
                    "execution_count": 18,
                    "metadata": {},
                    "output_type": "execute_result"
                }
            ],
            "source": [
                "import pandas as pd\n",
                "df = pd.DataFrame({'labels':labels,'companies':companies})\n",
                "df"
            ]
        },
        {
            "cell_type": "markdown",
            "metadata": {},
            "source": [
                "**Step 5:** Now display the DataFrame, sorted by cluster label.  To do this, use the `.sort_values()` method of `df` to sort the DataFrame by the `'labels'` column."
            ]
        },
        {
            "cell_type": "code",
            "execution_count": 24,
            "metadata": {},
            "outputs": [
                {
                    "data": {
                        "text/plain": "31     0\n28     0\n38     0\n41     0\n43     1\n52     1\n37     1\n49     1\n6      1\n42     1\n19     1\n46     1\n53     2\n44     2\n39     2\n57     2\n12     2\n10     2\n58     3\n16     3\n21     4\n34     4\n45     4\n48     4\n7      4\n15     5\n55     5\n26     5\n5      5\n3      5\n1      5\n18     5\n47     6\n36     6\n29     6\n25     6\n32     6\n30     6\n23     6\n20     6\n54     6\n13     6\n8      6\n4      6\n50     7\n24     7\n11     7\n33     7\n51     7\n27     8\n40     8\n9      8\n0      9\n17     9\n35    10\n56    11\n22    12\n14    12\n2     13\n59    13\nName: labels, dtype: int32"
                    },
                    "execution_count": 24,
                    "metadata": {},
                    "output_type": "execute_result"
                }
            ],
            "source": [
                "df.labels.sort_values()"
            ]
        },
        {
            "cell_type": "markdown",
            "metadata": {},
            "source": [
                "**Great job!** Using k-means, you've discovered which companies stock prices move together on the stock exchange."
            ]
        },
        {
            "cell_type": "code",
            "execution_count": null,
            "metadata": {
                "collapsed": true
            },
            "outputs": [],
            "source": []
        }
    ],
    "metadata": {
        "language_info": {
            "pygments_lexer": "ipython3",
            "codemirror_mode": {
                "name": "ipython",
                "version": 3
            },
            "version": "3.7.4-final",
            "name": "python",
            "mimetype": "text/x-python",
            "nbconvert_exporter": "python",
            "file_extension": ".py"
        },
        "kernelspec": {
            "name": "python37464bitbasecondad56398eedfb74bf491f14bc88721c312",
            "display_name": "Python 3.7.4 64-bit ('base': conda)",
            "language": "python"
        }
    },
    "nbformat": 4
}