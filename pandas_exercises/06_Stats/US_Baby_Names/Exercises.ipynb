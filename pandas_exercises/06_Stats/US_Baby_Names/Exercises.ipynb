{
 "cells": [
  {
   "cell_type": "markdown",
   "metadata": {},
   "source": [
    "# US - Baby Names"
   ]
  },
  {
   "cell_type": "markdown",
   "metadata": {},
   "source": [
    "### Introduction:\n",
    "\n",
    "We are going to use a subset of [US Baby Names](https://www.kaggle.com/kaggle/us-baby-names) from Kaggle.  \n",
    "In the file it will be names from 2004 until 2014\n",
    "\n",
    "\n",
    "### Step 1. Import the necessary libraries"
   ]
  },
  {
   "cell_type": "code",
   "execution_count": 102,
   "metadata": {},
   "outputs": [],
   "source": [
    "import numpy as np\n",
    "import pandas as pd"
   ]
  },
  {
   "cell_type": "markdown",
   "metadata": {},
   "source": [
    "### Step 2. Import the dataset from this [address](https://raw.githubusercontent.com/guipsamora/pandas_exercises/master/06_Stats/US_Baby_Names/US_Baby_Names_right.csv). "
   ]
  },
  {
   "cell_type": "markdown",
   "metadata": {},
   "source": [
    "### Step 3. Assign it to a variable called baby_names."
   ]
  },
  {
   "cell_type": "code",
   "execution_count": 103,
   "metadata": {},
   "outputs": [],
   "source": [
    "baby_names=pd.read_csv(\"D:/github_repo/python-learning/pandas_exercises_with_data/data/baby_name.txt\")"
   ]
  },
  {
   "cell_type": "markdown",
   "metadata": {},
   "source": [
    "### Step 4. See the first 10 entries"
   ]
  },
  {
   "cell_type": "code",
   "execution_count": 104,
   "metadata": {},
   "outputs": [
    {
     "data": {
      "text/html": "<div>\n<style scoped>\n    .dataframe tbody tr th:only-of-type {\n        vertical-align: middle;\n    }\n\n    .dataframe tbody tr th {\n        vertical-align: top;\n    }\n\n    .dataframe thead th {\n        text-align: right;\n    }\n</style>\n<table border=\"1\" class=\"dataframe\">\n  <thead>\n    <tr style=\"text-align: right;\">\n      <th></th>\n      <th>Unnamed: 0</th>\n      <th>Id</th>\n      <th>Name</th>\n      <th>Year</th>\n      <th>Gender</th>\n      <th>State</th>\n      <th>Count</th>\n    </tr>\n  </thead>\n  <tbody>\n    <tr>\n      <td>0</td>\n      <td>11349</td>\n      <td>11350</td>\n      <td>Emma</td>\n      <td>2004.0</td>\n      <td>F</td>\n      <td>AK</td>\n      <td>62.0</td>\n    </tr>\n    <tr>\n      <td>1</td>\n      <td>11350</td>\n      <td>11351</td>\n      <td>Madison</td>\n      <td>2004.0</td>\n      <td>F</td>\n      <td>AK</td>\n      <td>48.0</td>\n    </tr>\n    <tr>\n      <td>2</td>\n      <td>11351</td>\n      <td>11352</td>\n      <td>Hannah</td>\n      <td>2004.0</td>\n      <td>F</td>\n      <td>AK</td>\n      <td>46.0</td>\n    </tr>\n    <tr>\n      <td>3</td>\n      <td>11352</td>\n      <td>11353</td>\n      <td>Grace</td>\n      <td>2004.0</td>\n      <td>F</td>\n      <td>AK</td>\n      <td>44.0</td>\n    </tr>\n    <tr>\n      <td>4</td>\n      <td>11353</td>\n      <td>11354</td>\n      <td>Emily</td>\n      <td>2004.0</td>\n      <td>F</td>\n      <td>AK</td>\n      <td>41.0</td>\n    </tr>\n    <tr>\n      <td>5</td>\n      <td>11354</td>\n      <td>11355</td>\n      <td>Abigail</td>\n      <td>2004.0</td>\n      <td>F</td>\n      <td>AK</td>\n      <td>37.0</td>\n    </tr>\n    <tr>\n      <td>6</td>\n      <td>11355</td>\n      <td>11356</td>\n      <td>Olivia</td>\n      <td>2004.0</td>\n      <td>F</td>\n      <td>AK</td>\n      <td>33.0</td>\n    </tr>\n    <tr>\n      <td>7</td>\n      <td>11356</td>\n      <td>11357</td>\n      <td>Isabella</td>\n      <td>2004.0</td>\n      <td>F</td>\n      <td>AK</td>\n      <td>30.0</td>\n    </tr>\n    <tr>\n      <td>8</td>\n      <td>11357</td>\n      <td>11358</td>\n      <td>Alyssa</td>\n      <td>2004.0</td>\n      <td>F</td>\n      <td>AK</td>\n      <td>29.0</td>\n    </tr>\n    <tr>\n      <td>9</td>\n      <td>11358</td>\n      <td>11359</td>\n      <td>Sophia</td>\n      <td>2004.0</td>\n      <td>F</td>\n      <td>AK</td>\n      <td>28.0</td>\n    </tr>\n  </tbody>\n</table>\n</div>",
      "text/plain": "   Unnamed: 0     Id      Name    Year Gender State  Count\n0       11349  11350      Emma  2004.0      F    AK   62.0\n1       11350  11351   Madison  2004.0      F    AK   48.0\n2       11351  11352    Hannah  2004.0      F    AK   46.0\n3       11352  11353     Grace  2004.0      F    AK   44.0\n4       11353  11354     Emily  2004.0      F    AK   41.0\n5       11354  11355   Abigail  2004.0      F    AK   37.0\n6       11355  11356    Olivia  2004.0      F    AK   33.0\n7       11356  11357  Isabella  2004.0      F    AK   30.0\n8       11357  11358    Alyssa  2004.0      F    AK   29.0\n9       11358  11359    Sophia  2004.0      F    AK   28.0"
     },
     "execution_count": 104,
     "metadata": {},
     "output_type": "execute_result"
    }
   ],
   "source": [
    "baby_names.head(10)"
   ]
  },
  {
   "cell_type": "markdown",
   "metadata": {},
   "source": [
    "### Step 5. Delete the column 'Unnamed: 0' and 'Id'"
   ]
  },
  {
   "cell_type": "code",
   "execution_count": 105,
   "metadata": {},
   "outputs": [
    {
     "data": {
      "text/html": "<div>\n<style scoped>\n    .dataframe tbody tr th:only-of-type {\n        vertical-align: middle;\n    }\n\n    .dataframe tbody tr th {\n        vertical-align: top;\n    }\n\n    .dataframe thead th {\n        text-align: right;\n    }\n</style>\n<table border=\"1\" class=\"dataframe\">\n  <thead>\n    <tr style=\"text-align: right;\">\n      <th></th>\n      <th>Name</th>\n      <th>Year</th>\n      <th>Gender</th>\n      <th>State</th>\n      <th>Count</th>\n    </tr>\n  </thead>\n  <tbody>\n    <tr>\n      <td>0</td>\n      <td>Emma</td>\n      <td>2004.0</td>\n      <td>F</td>\n      <td>AK</td>\n      <td>62.0</td>\n    </tr>\n    <tr>\n      <td>1</td>\n      <td>Madison</td>\n      <td>2004.0</td>\n      <td>F</td>\n      <td>AK</td>\n      <td>48.0</td>\n    </tr>\n    <tr>\n      <td>2</td>\n      <td>Hannah</td>\n      <td>2004.0</td>\n      <td>F</td>\n      <td>AK</td>\n      <td>46.0</td>\n    </tr>\n    <tr>\n      <td>3</td>\n      <td>Grace</td>\n      <td>2004.0</td>\n      <td>F</td>\n      <td>AK</td>\n      <td>44.0</td>\n    </tr>\n    <tr>\n      <td>4</td>\n      <td>Emily</td>\n      <td>2004.0</td>\n      <td>F</td>\n      <td>AK</td>\n      <td>41.0</td>\n    </tr>\n  </tbody>\n</table>\n</div>",
      "text/plain": "      Name    Year Gender State  Count\n0     Emma  2004.0      F    AK   62.0\n1  Madison  2004.0      F    AK   48.0\n2   Hannah  2004.0      F    AK   46.0\n3    Grace  2004.0      F    AK   44.0\n4    Emily  2004.0      F    AK   41.0"
     },
     "execution_count": 105,
     "metadata": {},
     "output_type": "execute_result"
    }
   ],
   "source": [
    "del baby_names['Unnamed: 0']\n",
    "del baby_names['Id']\n",
    "baby_names.head()"
   ]
  },
  {
   "cell_type": "markdown",
   "metadata": {},
   "source": [
    "### Step 6. Is there more male or female names in the dataset?"
   ]
  },
  {
   "cell_type": "code",
   "execution_count": 106,
   "metadata": {},
   "outputs": [
    {
     "data": {
      "text/plain": "F    110946\nM     80294\nName: Gender, dtype: int64"
     },
     "execution_count": 106,
     "metadata": {},
     "output_type": "execute_result"
    }
   ],
   "source": [
    "baby_names['Gender'].value_counts()"
   ]
  },
  {
   "cell_type": "markdown",
   "metadata": {},
   "source": [
    "### Step 7. Group the dataset by name and assign to names"
   ]
  },
  {
   "cell_type": "code",
   "execution_count": 107,
   "metadata": {},
   "outputs": [
    {
     "data": {
      "text/html": "<div>\n<style scoped>\n    .dataframe tbody tr th:only-of-type {\n        vertical-align: middle;\n    }\n\n    .dataframe tbody tr th {\n        vertical-align: top;\n    }\n\n    .dataframe thead th {\n        text-align: right;\n    }\n</style>\n<table border=\"1\" class=\"dataframe\">\n  <thead>\n    <tr style=\"text-align: right;\">\n      <th></th>\n      <th>Count</th>\n    </tr>\n    <tr>\n      <th>Name</th>\n      <th></th>\n    </tr>\n  </thead>\n  <tbody>\n    <tr>\n      <td>Aadan</td>\n      <td>18.0</td>\n    </tr>\n    <tr>\n      <td>Aaden</td>\n      <td>789.0</td>\n    </tr>\n    <tr>\n      <td>Aadhav</td>\n      <td>6.0</td>\n    </tr>\n    <tr>\n      <td>Aadhya</td>\n      <td>126.0</td>\n    </tr>\n    <tr>\n      <td>Aadi</td>\n      <td>104.0</td>\n    </tr>\n  </tbody>\n</table>\n</div>",
      "text/plain": "        Count\nName         \nAadan    18.0\nAaden   789.0\nAadhav    6.0\nAadhya  126.0\nAadi    104.0"
     },
     "execution_count": 107,
     "metadata": {},
     "output_type": "execute_result"
    }
   ],
   "source": [
    "names=baby_names.groupby('Name').sum()\n",
    "del names['Year']#年份不需要相加，删掉Year列\n",
    "names.head()"
   ]
  },
  {
   "cell_type": "markdown",
   "metadata": {},
   "source": [
    "### Step 8. How many different names exist in the dataset?"
   ]
  },
  {
   "cell_type": "code",
   "execution_count": 108,
   "metadata": {},
   "outputs": [
    {
     "data": {
      "text/plain": "12914"
     },
     "execution_count": 108,
     "metadata": {},
     "output_type": "execute_result"
    }
   ],
   "source": [
    "len(baby_names['Name'].unique())"
   ]
  },
  {
   "cell_type": "markdown",
   "metadata": {},
   "source": [
    "### Step 9. What is the name with most occurrences?"
   ]
  },
  {
   "cell_type": "code",
   "execution_count": 109,
   "metadata": {},
   "outputs": [
    {
     "data": {
      "text/plain": "'Isabella'"
     },
     "execution_count": 109,
     "metadata": {},
     "output_type": "execute_result"
    }
   ],
   "source": [
    "#baby_names['Name'].count.max()\n",
    "names.Count.idxmax()"
   ]
  },
  {
   "cell_type": "markdown",
   "metadata": {},
   "source": [
    "### Step 10. How many different names have the least occurrences?"
   ]
  },
  {
   "cell_type": "code",
   "execution_count": 110,
   "metadata": {},
   "outputs": [
    {
     "data": {
      "text/plain": "1"
     },
     "execution_count": 110,
     "metadata": {},
     "output_type": "execute_result"
    }
   ],
   "source": [
    "len(names[names.Count==names.Count.min()])\n"
   ]
  },
  {
   "cell_type": "markdown",
   "metadata": {},
   "source": [
    "### Step 11. What is the median name occurrence?"
   ]
  },
  {
   "cell_type": "code",
   "execution_count": 113,
   "metadata": {},
   "outputs": [
    {
     "data": {
      "text/html": "<div>\n<style scoped>\n    .dataframe tbody tr th:only-of-type {\n        vertical-align: middle;\n    }\n\n    .dataframe tbody tr th {\n        vertical-align: top;\n    }\n\n    .dataframe thead th {\n        text-align: right;\n    }\n</style>\n<table border=\"1\" class=\"dataframe\">\n  <thead>\n    <tr style=\"text-align: right;\">\n      <th></th>\n      <th>Count</th>\n    </tr>\n    <tr>\n      <th>Name</th>\n      <th></th>\n    </tr>\n  </thead>\n  <tbody>\n    <tr>\n      <td>Aitana</td>\n      <td>39.0</td>\n    </tr>\n    <tr>\n      <td>Akari</td>\n      <td>39.0</td>\n    </tr>\n    <tr>\n      <td>Alexsa</td>\n      <td>39.0</td>\n    </tr>\n    <tr>\n      <td>Alister</td>\n      <td>39.0</td>\n    </tr>\n    <tr>\n      <td>Alyn</td>\n      <td>39.0</td>\n    </tr>\n    <tr>\n      <td>Anas</td>\n      <td>39.0</td>\n    </tr>\n    <tr>\n      <td>Annel</td>\n      <td>39.0</td>\n    </tr>\n    <tr>\n      <td>Antwone</td>\n      <td>39.0</td>\n    </tr>\n    <tr>\n      <td>Arrow</td>\n      <td>39.0</td>\n    </tr>\n    <tr>\n      <td>Ayda</td>\n      <td>39.0</td>\n    </tr>\n    <tr>\n      <td>Brizeida</td>\n      <td>39.0</td>\n    </tr>\n    <tr>\n      <td>Cattaleya</td>\n      <td>39.0</td>\n    </tr>\n    <tr>\n      <td>Delaila</td>\n      <td>39.0</td>\n    </tr>\n    <tr>\n      <td>Delphine</td>\n      <td>39.0</td>\n    </tr>\n    <tr>\n      <td>Dru</td>\n      <td>39.0</td>\n    </tr>\n    <tr>\n      <td>Eathan</td>\n      <td>39.0</td>\n    </tr>\n    <tr>\n      <td>Esabella</td>\n      <td>39.0</td>\n    </tr>\n    <tr>\n      <td>Farid</td>\n      <td>39.0</td>\n    </tr>\n    <tr>\n      <td>Frederic</td>\n      <td>39.0</td>\n    </tr>\n    <tr>\n      <td>Iran</td>\n      <td>39.0</td>\n    </tr>\n    <tr>\n      <td>Jaylie</td>\n      <td>39.0</td>\n    </tr>\n    <tr>\n      <td>Jedediah</td>\n      <td>39.0</td>\n    </tr>\n    <tr>\n      <td>Kaiah</td>\n      <td>39.0</td>\n    </tr>\n    <tr>\n      <td>Kamia</td>\n      <td>39.0</td>\n    </tr>\n    <tr>\n      <td>Khali</td>\n      <td>39.0</td>\n    </tr>\n    <tr>\n      <td>Kunal</td>\n      <td>39.0</td>\n    </tr>\n    <tr>\n      <td>Laiba</td>\n      <td>39.0</td>\n    </tr>\n    <tr>\n      <td>Leonora</td>\n      <td>39.0</td>\n    </tr>\n    <tr>\n      <td>Leyton</td>\n      <td>39.0</td>\n    </tr>\n    <tr>\n      <td>Lilianne</td>\n      <td>39.0</td>\n    </tr>\n    <tr>\n      <td>Mailee</td>\n      <td>39.0</td>\n    </tr>\n    <tr>\n      <td>Mars</td>\n      <td>39.0</td>\n    </tr>\n    <tr>\n      <td>Mattix</td>\n      <td>39.0</td>\n    </tr>\n    <tr>\n      <td>Mili</td>\n      <td>39.0</td>\n    </tr>\n    <tr>\n      <td>Nareh</td>\n      <td>39.0</td>\n    </tr>\n    <tr>\n      <td>Nisa</td>\n      <td>39.0</td>\n    </tr>\n    <tr>\n      <td>Ollie</td>\n      <td>39.0</td>\n    </tr>\n    <tr>\n      <td>Orianna</td>\n      <td>39.0</td>\n    </tr>\n    <tr>\n      <td>Oryan</td>\n      <td>39.0</td>\n    </tr>\n    <tr>\n      <td>Passion</td>\n      <td>39.0</td>\n    </tr>\n    <tr>\n      <td>Prudence</td>\n      <td>39.0</td>\n    </tr>\n    <tr>\n      <td>Rayana</td>\n      <td>39.0</td>\n    </tr>\n    <tr>\n      <td>Rhiley</td>\n      <td>39.0</td>\n    </tr>\n    <tr>\n      <td>Rhyder</td>\n      <td>39.0</td>\n    </tr>\n    <tr>\n      <td>Robinson</td>\n      <td>39.0</td>\n    </tr>\n    <tr>\n      <td>Saiya</td>\n      <td>39.0</td>\n    </tr>\n    <tr>\n      <td>Shiann</td>\n      <td>39.0</td>\n    </tr>\n    <tr>\n      <td>Sonora</td>\n      <td>39.0</td>\n    </tr>\n    <tr>\n      <td>Sylis</td>\n      <td>39.0</td>\n    </tr>\n    <tr>\n      <td>Uzziah</td>\n      <td>39.0</td>\n    </tr>\n    <tr>\n      <td>Viana</td>\n      <td>39.0</td>\n    </tr>\n    <tr>\n      <td>Vittoria</td>\n      <td>39.0</td>\n    </tr>\n    <tr>\n      <td>Wolf</td>\n      <td>39.0</td>\n    </tr>\n    <tr>\n      <td>Yahira</td>\n      <td>39.0</td>\n    </tr>\n    <tr>\n      <td>Zipporah</td>\n      <td>39.0</td>\n    </tr>\n  </tbody>\n</table>\n</div>",
      "text/plain": "           Count\nName            \nAitana      39.0\nAkari       39.0\nAlexsa      39.0\nAlister     39.0\nAlyn        39.0\nAnas        39.0\nAnnel       39.0\nAntwone     39.0\nArrow       39.0\nAyda        39.0\nBrizeida    39.0\nCattaleya   39.0\nDelaila     39.0\nDelphine    39.0\nDru         39.0\nEathan      39.0\nEsabella    39.0\nFarid       39.0\nFrederic    39.0\nIran        39.0\nJaylie      39.0\nJedediah    39.0\nKaiah       39.0\nKamia       39.0\nKhali       39.0\nKunal       39.0\nLaiba       39.0\nLeonora     39.0\nLeyton      39.0\nLilianne    39.0\nMailee      39.0\nMars        39.0\nMattix      39.0\nMili        39.0\nNareh       39.0\nNisa        39.0\nOllie       39.0\nOrianna     39.0\nOryan       39.0\nPassion     39.0\nPrudence    39.0\nRayana      39.0\nRhiley      39.0\nRhyder      39.0\nRobinson    39.0\nSaiya       39.0\nShiann      39.0\nSonora      39.0\nSylis       39.0\nUzziah      39.0\nViana       39.0\nVittoria    39.0\nWolf        39.0\nYahira      39.0\nZipporah    39.0"
     },
     "execution_count": 113,
     "metadata": {},
     "output_type": "execute_result"
    }
   ],
   "source": [
    "#baby_names[baby_names.count==baby_names.Count.median()]\n",
    "names[names['Count']==names.Count.median()]"
   ]
  },
  {
   "cell_type": "markdown",
   "metadata": {},
   "source": [
    "### Step 12. What is the standard deviation of names?"
   ]
  },
  {
   "cell_type": "code",
   "execution_count": 114,
   "metadata": {},
   "outputs": [
    {
     "data": {
      "text/plain": "2861.282660250301"
     },
     "execution_count": 114,
     "metadata": {},
     "output_type": "execute_result"
    }
   ],
   "source": [
    "names.Count.std()"
   ]
  },
  {
   "cell_type": "markdown",
   "metadata": {},
   "source": [
    "### Step 13. Get a summary with the mean, min, max, std and quartiles."
   ]
  },
  {
   "cell_type": "code",
   "execution_count": 122,
   "metadata": {},
   "outputs": [
    {
     "name": "stdout",
     "output_type": "stream",
     "text": "627.6505343038563\n0.0\n53020.0\n2861.282660250301\n39.0\n"
    }
   ],
   "source": [
    "print(names.Count.mean())\n",
    "print(names.Count.min())\n",
    "print(names.Count.max())\n",
    "print(names.Count.std())\n",
    "print(names.Count.quantile())"
   ]
  }
 ],
 "metadata": {
  "anaconda-cloud": {},
  "kernelspec": {
   "display_name": "Python 3.7.4 64-bit ('base': conda)",
   "language": "python",
   "name": "python37464bitbasecondad56398eedfb74bf491f14bc88721c312"
  },
  "language_info": {
   "codemirror_mode": {
    "name": "ipython",
    "version": 2
   },
   "file_extension": ".py",
   "mimetype": "text/x-python",
   "name": "python",
   "nbconvert_exporter": "python",
   "pygments_lexer": "ipython2",
   "version": "3.7.4-final"
  }
 },
 "nbformat": 4,
 "nbformat_minor": 0
}