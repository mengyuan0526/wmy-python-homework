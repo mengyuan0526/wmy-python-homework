{
 "cells": [
  {
   "cell_type": "markdown",
   "metadata": {},
   "source": [
    "# Housing Market"
   ]
  },
  {
   "cell_type": "markdown",
   "metadata": {},
   "source": [
    "### Introduction:\n",
    "\n",
    "This time we will create our own dataset with fictional numbers to describe a house market. As we are going to create random data don't try to reason of the numbers.\n",
    "\n",
    "### Step 1. Import the necessary libraries"
   ]
  },
  {
   "cell_type": "code",
   "execution_count": 17,
   "metadata": {},
   "outputs": [],
   "source": [
    "import numpy as np\n",
    "import pandas as pd"
   ]
  },
  {
   "cell_type": "markdown",
   "metadata": {},
   "source": [
    "### Step 2. Create 3 differents Series, each of length 100, as follows: \n",
    "1. The first a random number from 1 to 4 \n",
    "2. The second a random number from 1 to 3\n",
    "3. The third a random number from 10,000 to 30,000"
   ]
  },
  {
   "cell_type": "code",
   "execution_count": 18,
   "metadata": {},
   "outputs": [],
   "source": [
    "a1=pd.Series(np.random.randint(0,5,100,'l'))\n",
    "a2=pd.Series(np.random.randint(0,4,100,'l'))\n",
    "a3=pd.Series(np.random.randint(10000,30000,100,'l'))"
   ]
  },
  {
   "cell_type": "markdown",
   "metadata": {},
   "source": [
    "### Step 3. Let's create a DataFrame by joinning the Series by column"
   ]
  },
  {
   "cell_type": "code",
   "execution_count": 19,
   "metadata": {},
   "outputs": [
    {
     "data": {
      "text/html": "<div>\n<style scoped>\n    .dataframe tbody tr th:only-of-type {\n        vertical-align: middle;\n    }\n\n    .dataframe tbody tr th {\n        vertical-align: top;\n    }\n\n    .dataframe thead th {\n        text-align: right;\n    }\n</style>\n<table border=\"1\" class=\"dataframe\">\n  <thead>\n    <tr style=\"text-align: right;\">\n      <th></th>\n      <th>0</th>\n      <th>1</th>\n      <th>2</th>\n    </tr>\n  </thead>\n  <tbody>\n    <tr>\n      <td>0</td>\n      <td>2</td>\n      <td>3</td>\n      <td>10189</td>\n    </tr>\n    <tr>\n      <td>1</td>\n      <td>2</td>\n      <td>3</td>\n      <td>21114</td>\n    </tr>\n    <tr>\n      <td>2</td>\n      <td>0</td>\n      <td>3</td>\n      <td>23828</td>\n    </tr>\n    <tr>\n      <td>3</td>\n      <td>2</td>\n      <td>0</td>\n      <td>23083</td>\n    </tr>\n    <tr>\n      <td>4</td>\n      <td>3</td>\n      <td>0</td>\n      <td>22219</td>\n    </tr>\n    <tr>\n      <td>5</td>\n      <td>0</td>\n      <td>2</td>\n      <td>28160</td>\n    </tr>\n  </tbody>\n</table>\n</div>",
      "text/plain": "   0  1      2\n0  2  3  10189\n1  2  3  21114\n2  0  3  23828\n3  2  0  23083\n4  3  0  22219\n5  0  2  28160"
     },
     "execution_count": 19,
     "metadata": {},
     "output_type": "execute_result"
    }
   ],
   "source": [
    "series=pd.concat((a1,a2,a3),axis=1)\n",
    "series.head(6)"
   ]
  },
  {
   "cell_type": "markdown",
   "metadata": {},
   "source": [
    "### Step 4. Change the name of the columns to bedrs, bathrs, price_sqr_meter"
   ]
  },
  {
   "cell_type": "code",
   "execution_count": 22,
   "metadata": {},
   "outputs": [
    {
     "data": {
      "text/html": "<div>\n<style scoped>\n    .dataframe tbody tr th:only-of-type {\n        vertical-align: middle;\n    }\n\n    .dataframe tbody tr th {\n        vertical-align: top;\n    }\n\n    .dataframe thead th {\n        text-align: right;\n    }\n</style>\n<table border=\"1\" class=\"dataframe\">\n  <thead>\n    <tr style=\"text-align: right;\">\n      <th></th>\n      <th>bedrs</th>\n      <th>bathrs</th>\n      <th>price_sqr_meter</th>\n    </tr>\n  </thead>\n  <tbody>\n    <tr>\n      <td>0</td>\n      <td>2</td>\n      <td>3</td>\n      <td>10189</td>\n    </tr>\n    <tr>\n      <td>1</td>\n      <td>2</td>\n      <td>3</td>\n      <td>21114</td>\n    </tr>\n    <tr>\n      <td>2</td>\n      <td>0</td>\n      <td>3</td>\n      <td>23828</td>\n    </tr>\n    <tr>\n      <td>3</td>\n      <td>2</td>\n      <td>0</td>\n      <td>23083</td>\n    </tr>\n    <tr>\n      <td>4</td>\n      <td>3</td>\n      <td>0</td>\n      <td>22219</td>\n    </tr>\n    <tr>\n      <td>...</td>\n      <td>...</td>\n      <td>...</td>\n      <td>...</td>\n    </tr>\n    <tr>\n      <td>95</td>\n      <td>3</td>\n      <td>1</td>\n      <td>11491</td>\n    </tr>\n    <tr>\n      <td>96</td>\n      <td>3</td>\n      <td>1</td>\n      <td>20104</td>\n    </tr>\n    <tr>\n      <td>97</td>\n      <td>4</td>\n      <td>0</td>\n      <td>28851</td>\n    </tr>\n    <tr>\n      <td>98</td>\n      <td>1</td>\n      <td>0</td>\n      <td>12272</td>\n    </tr>\n    <tr>\n      <td>99</td>\n      <td>0</td>\n      <td>3</td>\n      <td>25415</td>\n    </tr>\n  </tbody>\n</table>\n<p>100 rows × 3 columns</p>\n</div>",
      "text/plain": "    bedrs  bathrs  price_sqr_meter\n0       2       3            10189\n1       2       3            21114\n2       0       3            23828\n3       2       0            23083\n4       3       0            22219\n..    ...     ...              ...\n95      3       1            11491\n96      3       1            20104\n97      4       0            28851\n98      1       0            12272\n99      0       3            25415\n\n[100 rows x 3 columns]"
     },
     "execution_count": 22,
     "metadata": {},
     "output_type": "execute_result"
    }
   ],
   "source": [
    "#series=pd.DataFrame(series,columns=['bedrs','bathrs','price_sqr_meter'])\n",
    "series.head()\n",
    "series.rename(columns={0:'bedrs',1:'bathrs',2:'price_sqr_meter'})"
   ]
  },
  {
   "cell_type": "markdown",
   "metadata": {},
   "source": [
    "### Step 5. Create a one column DataFrame with the values of the 3 Series and assign it to 'bigcolumn'"
   ]
  },
  {
   "cell_type": "code",
   "execution_count": 32,
   "metadata": {},
   "outputs": [
    {
     "data": {
      "text/plain": "0         2\n1         2\n2         0\n3         2\n4         3\n      ...  \n95    11491\n96    20104\n97    28851\n98    12272\n99    25415\nLength: 300, dtype: int32"
     },
     "execution_count": 32,
     "metadata": {},
     "output_type": "execute_result"
    }
   ],
   "source": [
    "bigcolumn=pd.concat((a1,a2,a3),axis=0)\n",
    "bigcolumn.to_frame()\n",
    "bigcolumn"
   ]
  },
  {
   "cell_type": "markdown",
   "metadata": {},
   "source": [
    "### Step 6. Ops it seems it is going only until index 99. Is it true?"
   ]
  },
  {
   "cell_type": "code",
   "execution_count": 35,
   "metadata": {},
   "outputs": [
    {
     "data": {
      "text/plain": "True"
     },
     "execution_count": 35,
     "metadata": {},
     "output_type": "execute_result"
    }
   ],
   "source": [
    "bigcolumn.index.max()==99"
   ]
  },
  {
   "cell_type": "markdown",
   "metadata": {},
   "source": [
    "### Step 7. Reindex the DataFrame so it goes from 0 to 299"
   ]
  },
  {
   "cell_type": "code",
   "execution_count": 43,
   "metadata": {},
   "outputs": [
    {
     "data": {
      "text/plain": "0          2\n1          2\n2          0\n3          2\n4          3\n       ...  \n295    11491\n296    20104\n297    28851\n298    12272\n299    25415\nLength: 300, dtype: int32"
     },
     "execution_count": 43,
     "metadata": {},
     "output_type": "execute_result"
    }
   ],
   "source": [
    "bigcolumn.reset_index(drop=True,inplace=True)\n",
    "bigcolumn"
   ]
  }
 ],
 "metadata": {
  "kernelspec": {
   "display_name": "Python 3.7.4 64-bit ('base': conda)",
   "language": "python",
   "name": "python37464bitbasecondad56398eedfb74bf491f14bc88721c312"
  },
  "language_info": {
   "codemirror_mode": {
    "name": "ipython",
    "version": 2
   },
   "file_extension": ".py",
   "mimetype": "text/x-python",
   "name": "python",
   "nbconvert_exporter": "python",
   "pygments_lexer": "ipython2",
   "version": "3.7.4-final"
  }
 },
 "nbformat": 4,
 "nbformat_minor": 0
}