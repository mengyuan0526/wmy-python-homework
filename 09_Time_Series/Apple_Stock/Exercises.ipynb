{
 "cells": [
  {
   "cell_type": "markdown",
   "metadata": {},
   "source": [
    "# Apple Stock"
   ]
  },
  {
   "cell_type": "markdown",
   "metadata": {},
   "source": [
    "### Introduction:\n",
    "\n",
    "We are going to use Apple's stock price.\n",
    "\n",
    "\n",
    "### Step 1. Import the necessary libraries"
   ]
  },
  {
   "source": [
    "import pandas as pd \n",
    "import numpy as np \n",
    "import seaborn as sns\n",
    "import matplotlib.pyplot as plt\n",
    ""
   ],
   "cell_type": "code",
   "outputs": [],
   "metadata": {},
   "execution_count": 1
  },
  {
   "cell_type": "markdown",
   "metadata": {},
   "source": [
    "### Step 2. Import the dataset from this [address](https://raw.githubusercontent.com/guipsamora/pandas_exercises/master/09_Time_Series/Apple_Stock/appl_1980_2014.csv)"
   ]
  },
  {
   "source": [
    "apple=pd.read_csv('appl_1980_2014.csv')"
   ],
   "cell_type": "code",
   "outputs": [],
   "metadata": {},
   "execution_count": 2
  },
  {
   "cell_type": "markdown",
   "metadata": {},
   "source": [
    "### Step 3. Assign it to a variable apple"
   ]
  },
  {
   "source": [
    "apple"
   ],
   "cell_type": "code",
   "outputs": [
    {
     "output_type": "execute_result",
     "data": {
      "text/plain": "            Date   Open   High    Low  Close     Volume  Adj Close\n0     2014-07-08  96.27  96.80  93.92  95.35   65130000      95.35\n1     2014-07-07  94.14  95.99  94.10  95.97   56305400      95.97\n2     2014-07-03  93.67  94.10  93.20  94.03   22891800      94.03\n3     2014-07-02  93.87  94.06  93.09  93.48   28420900      93.48\n4     2014-07-01  93.52  94.07  93.13  93.52   38170200      93.52\n...          ...    ...    ...    ...    ...        ...        ...\n8460  1980-12-18  26.63  26.75  26.63  26.63   18362400       0.41\n8461  1980-12-17  25.87  26.00  25.87  25.87   21610400       0.40\n8462  1980-12-16  25.37  25.37  25.25  25.25   26432000       0.39\n8463  1980-12-15  27.38  27.38  27.25  27.25   43971200       0.42\n8464  1980-12-12  28.75  28.87  28.75  28.75  117258400       0.45\n\n[8465 rows x 7 columns]",
      "text/html": "<div>\n<style scoped>\n    .dataframe tbody tr th:only-of-type {\n        vertical-align: middle;\n    }\n\n    .dataframe tbody tr th {\n        vertical-align: top;\n    }\n\n    .dataframe thead th {\n        text-align: right;\n    }\n</style>\n<table border=\"1\" class=\"dataframe\">\n  <thead>\n    <tr style=\"text-align: right;\">\n      <th></th>\n      <th>Date</th>\n      <th>Open</th>\n      <th>High</th>\n      <th>Low</th>\n      <th>Close</th>\n      <th>Volume</th>\n      <th>Adj Close</th>\n    </tr>\n  </thead>\n  <tbody>\n    <tr>\n      <td>0</td>\n      <td>2014-07-08</td>\n      <td>96.27</td>\n      <td>96.80</td>\n      <td>93.92</td>\n      <td>95.35</td>\n      <td>65130000</td>\n      <td>95.35</td>\n    </tr>\n    <tr>\n      <td>1</td>\n      <td>2014-07-07</td>\n      <td>94.14</td>\n      <td>95.99</td>\n      <td>94.10</td>\n      <td>95.97</td>\n      <td>56305400</td>\n      <td>95.97</td>\n    </tr>\n    <tr>\n      <td>2</td>\n      <td>2014-07-03</td>\n      <td>93.67</td>\n      <td>94.10</td>\n      <td>93.20</td>\n      <td>94.03</td>\n      <td>22891800</td>\n      <td>94.03</td>\n    </tr>\n    <tr>\n      <td>3</td>\n      <td>2014-07-02</td>\n      <td>93.87</td>\n      <td>94.06</td>\n      <td>93.09</td>\n      <td>93.48</td>\n      <td>28420900</td>\n      <td>93.48</td>\n    </tr>\n    <tr>\n      <td>4</td>\n      <td>2014-07-01</td>\n      <td>93.52</td>\n      <td>94.07</td>\n      <td>93.13</td>\n      <td>93.52</td>\n      <td>38170200</td>\n      <td>93.52</td>\n    </tr>\n    <tr>\n      <td>...</td>\n      <td>...</td>\n      <td>...</td>\n      <td>...</td>\n      <td>...</td>\n      <td>...</td>\n      <td>...</td>\n      <td>...</td>\n    </tr>\n    <tr>\n      <td>8460</td>\n      <td>1980-12-18</td>\n      <td>26.63</td>\n      <td>26.75</td>\n      <td>26.63</td>\n      <td>26.63</td>\n      <td>18362400</td>\n      <td>0.41</td>\n    </tr>\n    <tr>\n      <td>8461</td>\n      <td>1980-12-17</td>\n      <td>25.87</td>\n      <td>26.00</td>\n      <td>25.87</td>\n      <td>25.87</td>\n      <td>21610400</td>\n      <td>0.40</td>\n    </tr>\n    <tr>\n      <td>8462</td>\n      <td>1980-12-16</td>\n      <td>25.37</td>\n      <td>25.37</td>\n      <td>25.25</td>\n      <td>25.25</td>\n      <td>26432000</td>\n      <td>0.39</td>\n    </tr>\n    <tr>\n      <td>8463</td>\n      <td>1980-12-15</td>\n      <td>27.38</td>\n      <td>27.38</td>\n      <td>27.25</td>\n      <td>27.25</td>\n      <td>43971200</td>\n      <td>0.42</td>\n    </tr>\n    <tr>\n      <td>8464</td>\n      <td>1980-12-12</td>\n      <td>28.75</td>\n      <td>28.87</td>\n      <td>28.75</td>\n      <td>28.75</td>\n      <td>117258400</td>\n      <td>0.45</td>\n    </tr>\n  </tbody>\n</table>\n<p>8465 rows × 7 columns</p>\n</div>"
     },
     "metadata": {},
     "execution_count": 3
    }
   ],
   "metadata": {},
   "execution_count": 3
  },
  {
   "cell_type": "markdown",
   "metadata": {},
   "source": [
    "### Step 4.  Check out the type of the columns"
   ]
  },
  {
   "source": [
    "apple.info()"
   ],
   "cell_type": "code",
   "outputs": [
    {
     "output_type": "stream",
     "name": "stdout",
     "text": "<class 'pandas.core.frame.DataFrame'>\nRangeIndex: 8465 entries, 0 to 8464\nData columns (total 7 columns):\nDate         8465 non-null object\nOpen         8465 non-null float64\nHigh         8465 non-null float64\nLow          8465 non-null float64\nClose        8465 non-null float64\nVolume       8465 non-null int64\nAdj Close    8465 non-null float64\ndtypes: float64(5), int64(1), object(1)\nmemory usage: 463.1+ KB\n"
    }
   ],
   "metadata": {},
   "execution_count": 4
  },
  {
   "cell_type": "markdown",
   "metadata": {},
   "source": [
    "### Step 5. Transform the Date column as a datetime type"
   ]
  },
  {
   "source": [
    "apple['Date']=apple['Date'].astype('datetime64')\n",
    "apple.info()"
   ],
   "cell_type": "code",
   "outputs": [
    {
     "output_type": "stream",
     "name": "stdout",
     "text": "<class 'pandas.core.frame.DataFrame'>\nRangeIndex: 8465 entries, 0 to 8464\nData columns (total 7 columns):\nDate         8465 non-null datetime64[ns]\nOpen         8465 non-null float64\nHigh         8465 non-null float64\nLow          8465 non-null float64\nClose        8465 non-null float64\nVolume       8465 non-null int64\nAdj Close    8465 non-null float64\ndtypes: datetime64[ns](1), float64(5), int64(1)\nmemory usage: 463.1 KB\n"
    }
   ],
   "metadata": {},
   "execution_count": 5
  },
  {
   "cell_type": "markdown",
   "metadata": {},
   "source": [
    "### Step 6.  Set the date as the index"
   ]
  },
  {
   "source": [
    "apple.set_index('Date')"
   ],
   "cell_type": "code",
   "outputs": [
    {
     "output_type": "execute_result",
     "data": {
      "text/plain": "             Open   High    Low  Close     Volume  Adj Close\nDate                                                        \n2014-07-08  96.27  96.80  93.92  95.35   65130000      95.35\n2014-07-07  94.14  95.99  94.10  95.97   56305400      95.97\n2014-07-03  93.67  94.10  93.20  94.03   22891800      94.03\n2014-07-02  93.87  94.06  93.09  93.48   28420900      93.48\n2014-07-01  93.52  94.07  93.13  93.52   38170200      93.52\n...           ...    ...    ...    ...        ...        ...\n1980-12-18  26.63  26.75  26.63  26.63   18362400       0.41\n1980-12-17  25.87  26.00  25.87  25.87   21610400       0.40\n1980-12-16  25.37  25.37  25.25  25.25   26432000       0.39\n1980-12-15  27.38  27.38  27.25  27.25   43971200       0.42\n1980-12-12  28.75  28.87  28.75  28.75  117258400       0.45\n\n[8465 rows x 6 columns]",
      "text/html": "<div>\n<style scoped>\n    .dataframe tbody tr th:only-of-type {\n        vertical-align: middle;\n    }\n\n    .dataframe tbody tr th {\n        vertical-align: top;\n    }\n\n    .dataframe thead th {\n        text-align: right;\n    }\n</style>\n<table border=\"1\" class=\"dataframe\">\n  <thead>\n    <tr style=\"text-align: right;\">\n      <th></th>\n      <th>Open</th>\n      <th>High</th>\n      <th>Low</th>\n      <th>Close</th>\n      <th>Volume</th>\n      <th>Adj Close</th>\n    </tr>\n    <tr>\n      <th>Date</th>\n      <th></th>\n      <th></th>\n      <th></th>\n      <th></th>\n      <th></th>\n      <th></th>\n    </tr>\n  </thead>\n  <tbody>\n    <tr>\n      <td>2014-07-08</td>\n      <td>96.27</td>\n      <td>96.80</td>\n      <td>93.92</td>\n      <td>95.35</td>\n      <td>65130000</td>\n      <td>95.35</td>\n    </tr>\n    <tr>\n      <td>2014-07-07</td>\n      <td>94.14</td>\n      <td>95.99</td>\n      <td>94.10</td>\n      <td>95.97</td>\n      <td>56305400</td>\n      <td>95.97</td>\n    </tr>\n    <tr>\n      <td>2014-07-03</td>\n      <td>93.67</td>\n      <td>94.10</td>\n      <td>93.20</td>\n      <td>94.03</td>\n      <td>22891800</td>\n      <td>94.03</td>\n    </tr>\n    <tr>\n      <td>2014-07-02</td>\n      <td>93.87</td>\n      <td>94.06</td>\n      <td>93.09</td>\n      <td>93.48</td>\n      <td>28420900</td>\n      <td>93.48</td>\n    </tr>\n    <tr>\n      <td>2014-07-01</td>\n      <td>93.52</td>\n      <td>94.07</td>\n      <td>93.13</td>\n      <td>93.52</td>\n      <td>38170200</td>\n      <td>93.52</td>\n    </tr>\n    <tr>\n      <td>...</td>\n      <td>...</td>\n      <td>...</td>\n      <td>...</td>\n      <td>...</td>\n      <td>...</td>\n      <td>...</td>\n    </tr>\n    <tr>\n      <td>1980-12-18</td>\n      <td>26.63</td>\n      <td>26.75</td>\n      <td>26.63</td>\n      <td>26.63</td>\n      <td>18362400</td>\n      <td>0.41</td>\n    </tr>\n    <tr>\n      <td>1980-12-17</td>\n      <td>25.87</td>\n      <td>26.00</td>\n      <td>25.87</td>\n      <td>25.87</td>\n      <td>21610400</td>\n      <td>0.40</td>\n    </tr>\n    <tr>\n      <td>1980-12-16</td>\n      <td>25.37</td>\n      <td>25.37</td>\n      <td>25.25</td>\n      <td>25.25</td>\n      <td>26432000</td>\n      <td>0.39</td>\n    </tr>\n    <tr>\n      <td>1980-12-15</td>\n      <td>27.38</td>\n      <td>27.38</td>\n      <td>27.25</td>\n      <td>27.25</td>\n      <td>43971200</td>\n      <td>0.42</td>\n    </tr>\n    <tr>\n      <td>1980-12-12</td>\n      <td>28.75</td>\n      <td>28.87</td>\n      <td>28.75</td>\n      <td>28.75</td>\n      <td>117258400</td>\n      <td>0.45</td>\n    </tr>\n  </tbody>\n</table>\n<p>8465 rows × 6 columns</p>\n</div>"
     },
     "metadata": {},
     "execution_count": 6
    }
   ],
   "metadata": {},
   "execution_count": 6
  },
  {
   "cell_type": "markdown",
   "metadata": {},
   "source": [
    "### Step 7.  Is there any duplicate dates?"
   ]
  },
  {
   "source": [
    "apple['Date'].is_unique#没有重复日期"
   ],
   "cell_type": "code",
   "outputs": [
    {
     "output_type": "execute_result",
     "data": {
      "text/plain": "True"
     },
     "metadata": {},
     "execution_count": 7
    }
   ],
   "metadata": {},
   "execution_count": 7
  },
  {
   "cell_type": "markdown",
   "metadata": {},
   "source": [
    "### Step 8.  Ops...it seems the index is from the most recent date. Make the first entry the oldest date."
   ]
  },
  {
   "source": [
    "apple.sort_index(ascending=True)"
   ],
   "cell_type": "code",
   "outputs": [
    {
     "output_type": "execute_result",
     "data": {
      "text/plain": "           Date   Open   High    Low  Close     Volume  Adj Close\n0    2014-07-08  96.27  96.80  93.92  95.35   65130000      95.35\n1    2014-07-07  94.14  95.99  94.10  95.97   56305400      95.97\n2    2014-07-03  93.67  94.10  93.20  94.03   22891800      94.03\n3    2014-07-02  93.87  94.06  93.09  93.48   28420900      93.48\n4    2014-07-01  93.52  94.07  93.13  93.52   38170200      93.52\n...         ...    ...    ...    ...    ...        ...        ...\n8460 1980-12-18  26.63  26.75  26.63  26.63   18362400       0.41\n8461 1980-12-17  25.87  26.00  25.87  25.87   21610400       0.40\n8462 1980-12-16  25.37  25.37  25.25  25.25   26432000       0.39\n8463 1980-12-15  27.38  27.38  27.25  27.25   43971200       0.42\n8464 1980-12-12  28.75  28.87  28.75  28.75  117258400       0.45\n\n[8465 rows x 7 columns]",
      "text/html": "<div>\n<style scoped>\n    .dataframe tbody tr th:only-of-type {\n        vertical-align: middle;\n    }\n\n    .dataframe tbody tr th {\n        vertical-align: top;\n    }\n\n    .dataframe thead th {\n        text-align: right;\n    }\n</style>\n<table border=\"1\" class=\"dataframe\">\n  <thead>\n    <tr style=\"text-align: right;\">\n      <th></th>\n      <th>Date</th>\n      <th>Open</th>\n      <th>High</th>\n      <th>Low</th>\n      <th>Close</th>\n      <th>Volume</th>\n      <th>Adj Close</th>\n    </tr>\n  </thead>\n  <tbody>\n    <tr>\n      <td>0</td>\n      <td>2014-07-08</td>\n      <td>96.27</td>\n      <td>96.80</td>\n      <td>93.92</td>\n      <td>95.35</td>\n      <td>65130000</td>\n      <td>95.35</td>\n    </tr>\n    <tr>\n      <td>1</td>\n      <td>2014-07-07</td>\n      <td>94.14</td>\n      <td>95.99</td>\n      <td>94.10</td>\n      <td>95.97</td>\n      <td>56305400</td>\n      <td>95.97</td>\n    </tr>\n    <tr>\n      <td>2</td>\n      <td>2014-07-03</td>\n      <td>93.67</td>\n      <td>94.10</td>\n      <td>93.20</td>\n      <td>94.03</td>\n      <td>22891800</td>\n      <td>94.03</td>\n    </tr>\n    <tr>\n      <td>3</td>\n      <td>2014-07-02</td>\n      <td>93.87</td>\n      <td>94.06</td>\n      <td>93.09</td>\n      <td>93.48</td>\n      <td>28420900</td>\n      <td>93.48</td>\n    </tr>\n    <tr>\n      <td>4</td>\n      <td>2014-07-01</td>\n      <td>93.52</td>\n      <td>94.07</td>\n      <td>93.13</td>\n      <td>93.52</td>\n      <td>38170200</td>\n      <td>93.52</td>\n    </tr>\n    <tr>\n      <td>...</td>\n      <td>...</td>\n      <td>...</td>\n      <td>...</td>\n      <td>...</td>\n      <td>...</td>\n      <td>...</td>\n      <td>...</td>\n    </tr>\n    <tr>\n      <td>8460</td>\n      <td>1980-12-18</td>\n      <td>26.63</td>\n      <td>26.75</td>\n      <td>26.63</td>\n      <td>26.63</td>\n      <td>18362400</td>\n      <td>0.41</td>\n    </tr>\n    <tr>\n      <td>8461</td>\n      <td>1980-12-17</td>\n      <td>25.87</td>\n      <td>26.00</td>\n      <td>25.87</td>\n      <td>25.87</td>\n      <td>21610400</td>\n      <td>0.40</td>\n    </tr>\n    <tr>\n      <td>8462</td>\n      <td>1980-12-16</td>\n      <td>25.37</td>\n      <td>25.37</td>\n      <td>25.25</td>\n      <td>25.25</td>\n      <td>26432000</td>\n      <td>0.39</td>\n    </tr>\n    <tr>\n      <td>8463</td>\n      <td>1980-12-15</td>\n      <td>27.38</td>\n      <td>27.38</td>\n      <td>27.25</td>\n      <td>27.25</td>\n      <td>43971200</td>\n      <td>0.42</td>\n    </tr>\n    <tr>\n      <td>8464</td>\n      <td>1980-12-12</td>\n      <td>28.75</td>\n      <td>28.87</td>\n      <td>28.75</td>\n      <td>28.75</td>\n      <td>117258400</td>\n      <td>0.45</td>\n    </tr>\n  </tbody>\n</table>\n<p>8465 rows × 7 columns</p>\n</div>"
     },
     "metadata": {},
     "execution_count": 8
    }
   ],
   "metadata": {},
   "execution_count": 8
  },
  {
   "cell_type": "markdown",
   "metadata": {},
   "source": [
    "### Step 9. Get the last business day of each month"
   ]
  },
  {
   "source": [
    "apple=apple.set_index('Date')\n",
    "apple_month = apple.resample('M').sum()\n",
    "apple_month.head(10)\n",
    ""
   ],
   "cell_type": "code",
   "outputs": [
    {
     "output_type": "execute_result",
     "data": {
      "text/plain": "              Open    High     Low   Close     Volume  Adj Close\nDate                                                            \n1980-12-31  396.26  397.38  395.76  395.76  336212800       6.15\n1981-01-31  666.85  668.36  664.75  664.75  152247200      10.37\n1981-02-28  503.12  504.87  501.75  501.75   80404800       7.81\n1981-03-31  548.63  550.37  546.40  546.40  175179200       8.53\n1981-04-30  573.02  574.73  571.77  571.77  134232000       8.89\n1981-05-31  581.04  583.76  579.90  579.90  147604800       9.05\n1981-06-30  677.64  679.28  675.48  675.48  237641600      10.51\n1981-07-31  537.60  539.70  536.24  536.24  166857600       8.35\n1981-08-31  446.73  447.73  444.37  444.37  137155200       6.90\n1981-09-30  382.65  383.75  380.76  380.76  185920000       5.95",
      "text/html": "<div>\n<style scoped>\n    .dataframe tbody tr th:only-of-type {\n        vertical-align: middle;\n    }\n\n    .dataframe tbody tr th {\n        vertical-align: top;\n    }\n\n    .dataframe thead th {\n        text-align: right;\n    }\n</style>\n<table border=\"1\" class=\"dataframe\">\n  <thead>\n    <tr style=\"text-align: right;\">\n      <th></th>\n      <th>Open</th>\n      <th>High</th>\n      <th>Low</th>\n      <th>Close</th>\n      <th>Volume</th>\n      <th>Adj Close</th>\n    </tr>\n    <tr>\n      <th>Date</th>\n      <th></th>\n      <th></th>\n      <th></th>\n      <th></th>\n      <th></th>\n      <th></th>\n    </tr>\n  </thead>\n  <tbody>\n    <tr>\n      <td>1980-12-31</td>\n      <td>396.26</td>\n      <td>397.38</td>\n      <td>395.76</td>\n      <td>395.76</td>\n      <td>336212800</td>\n      <td>6.15</td>\n    </tr>\n    <tr>\n      <td>1981-01-31</td>\n      <td>666.85</td>\n      <td>668.36</td>\n      <td>664.75</td>\n      <td>664.75</td>\n      <td>152247200</td>\n      <td>10.37</td>\n    </tr>\n    <tr>\n      <td>1981-02-28</td>\n      <td>503.12</td>\n      <td>504.87</td>\n      <td>501.75</td>\n      <td>501.75</td>\n      <td>80404800</td>\n      <td>7.81</td>\n    </tr>\n    <tr>\n      <td>1981-03-31</td>\n      <td>548.63</td>\n      <td>550.37</td>\n      <td>546.40</td>\n      <td>546.40</td>\n      <td>175179200</td>\n      <td>8.53</td>\n    </tr>\n    <tr>\n      <td>1981-04-30</td>\n      <td>573.02</td>\n      <td>574.73</td>\n      <td>571.77</td>\n      <td>571.77</td>\n      <td>134232000</td>\n      <td>8.89</td>\n    </tr>\n    <tr>\n      <td>1981-05-31</td>\n      <td>581.04</td>\n      <td>583.76</td>\n      <td>579.90</td>\n      <td>579.90</td>\n      <td>147604800</td>\n      <td>9.05</td>\n    </tr>\n    <tr>\n      <td>1981-06-30</td>\n      <td>677.64</td>\n      <td>679.28</td>\n      <td>675.48</td>\n      <td>675.48</td>\n      <td>237641600</td>\n      <td>10.51</td>\n    </tr>\n    <tr>\n      <td>1981-07-31</td>\n      <td>537.60</td>\n      <td>539.70</td>\n      <td>536.24</td>\n      <td>536.24</td>\n      <td>166857600</td>\n      <td>8.35</td>\n    </tr>\n    <tr>\n      <td>1981-08-31</td>\n      <td>446.73</td>\n      <td>447.73</td>\n      <td>444.37</td>\n      <td>444.37</td>\n      <td>137155200</td>\n      <td>6.90</td>\n    </tr>\n    <tr>\n      <td>1981-09-30</td>\n      <td>382.65</td>\n      <td>383.75</td>\n      <td>380.76</td>\n      <td>380.76</td>\n      <td>185920000</td>\n      <td>5.95</td>\n    </tr>\n  </tbody>\n</table>\n</div>"
     },
     "metadata": {},
     "execution_count": 9
    }
   ],
   "metadata": {},
   "execution_count": 9
  },
  {
   "cell_type": "markdown",
   "metadata": {},
   "source": [
    "### Step 10.  What is the difference in days between the first day and the oldest"
   ]
  },
  {
   "source": [
    "print(apple_month[:1])\n",
    "print(apple_month[403:404])\n",
    "#print(apple_month.index.min())"
   ],
   "cell_type": "code",
   "outputs": [
    {
     "output_type": "stream",
     "name": "stdout",
     "text": "Open    High     Low   Close     Volume  Adj Close\nDate                                                            \n1980-12-31  396.26  397.38  395.76  395.76  336212800       6.15\n              Open    High     Low   Close     Volume  Adj Close\nDate                                                            \n2014-07-31  471.47  475.02  467.44  472.35  210918300     472.35\n"
    }
   ],
   "metadata": {},
   "execution_count": 10
  },
  {
   "cell_type": "markdown",
   "metadata": {},
   "source": [
    "### Step 11.  How many months in the data we have?"
   ]
  },
  {
   "source": [
    "len(apple_months.index)"
   ],
   "cell_type": "code",
   "outputs": [
    {
     "output_type": "error",
     "ename": "NameError",
     "evalue": "name 'apple_months' is not defined",
     "traceback": [
      "\u001b[1;31m---------------------------------------------------------------------------\u001b[0m",
      "\u001b[1;31mNameError\u001b[0m                                 Traceback (most recent call last)",
      "\u001b[1;32m<ipython-input-11-ab8fc4a6bb12>\u001b[0m in \u001b[0;36m<module>\u001b[1;34m\u001b[0m\n\u001b[1;32m----> 1\u001b[1;33m \u001b[0mlen\u001b[0m\u001b[1;33m(\u001b[0m\u001b[0mapple_months\u001b[0m\u001b[1;33m.\u001b[0m\u001b[0mindex\u001b[0m\u001b[1;33m)\u001b[0m\u001b[1;33m\u001b[0m\u001b[1;33m\u001b[0m\u001b[0m\n\u001b[0m",
      "\u001b[1;31mNameError\u001b[0m: name 'apple_months' is not defined"
     ]
    }
   ],
   "metadata": {},
   "execution_count": 11
  },
  {
   "cell_type": "markdown",
   "metadata": {},
   "source": [
    "### Step 12. Plot the 'Adj Close' value. Set the size of the figure to 13.5 x 9 inches"
   ]
  },
  {
   "source": [
    "figsize = 13.5,9\n",
    "figure, ax = plt.subplots(figsize=figsize)\n",
    "plt.scatter(x=apple_month.index,y=apple_month['Adj Close'])\n",
    "plt.show()"
   ],
   "cell_type": "code",
   "outputs": [],
   "metadata": {},
   "execution_count": 0
  },
  {
   "cell_type": "markdown",
   "metadata": {},
   "source": [
    "### BONUS: Create your own question and answer it."
   ]
  },
  {
   "cell_type": "code",
   "execution_count": null,
   "metadata": {
    "collapsed": true
   },
   "outputs": [],
   "source": []
  }
 ],
 "metadata": {
  "anaconda-cloud": {},
  "kernelspec": {
   "display_name": "Python 3",
   "language": "python",
   "name": "python3"
  },
  "language_info": {
   "codemirror_mode": {
    "name": "ipython",
    "version": 2
   },
   "file_extension": ".py",
   "mimetype": "text/x-python",
   "name": "python",
   "nbconvert_exporter": "python",
   "pygments_lexer": "ipython2",
   "version": "3.7.4-final"
  }
 },
 "nbformat": 4,
 "nbformat_minor": 0
}