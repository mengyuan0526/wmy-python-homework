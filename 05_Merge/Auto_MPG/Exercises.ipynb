{
 "cells": [
  {
   "cell_type": "markdown",
   "metadata": {},
   "source": [
    "# MPG Cars"
   ]
  },
  {
   "cell_type": "markdown",
   "metadata": {},
   "source": [
    "### Introduction:\n",
    "\n",
    "The following exercise utilizes data from [UC Irvine Machine Learning Repository](https://archive.ics.uci.edu/ml/datasets/Auto+MPG)\n",
    "\n",
    "### Step 1. Import the necessary libraries"
   ]
  },
  {
   "cell_type": "code",
   "execution_count": 35,
   "metadata": {},
   "outputs": [],
   "source": [
    "import pandas as pd\n",
    "import numpy as np"
   ]
  },
  {
   "cell_type": "markdown",
   "metadata": {},
   "source": [
    "### Step 2. Import the first dataset [cars1](https://raw.githubusercontent.com/guipsamora/pandas_exercises/master/05_Merge/Auto_MPG/cars1.csv) and [cars2](https://raw.githubusercontent.com/guipsamora/pandas_exercises/master/05_Merge/Auto_MPG/cars2.csv).  "
   ]
  },
  {
   "cell_type": "markdown",
   "metadata": {},
   "source": [
    "   ### Step 3. Assign each to a variable called cars1 and cars2"
   ]
  },
  {
   "cell_type": "code",
   "execution_count": 36,
   "metadata": {},
   "outputs": [
    {
     "name": "stdout",
     "output_type": "stream",
     "text": "mpg  cylinders  displacement horsepower  weight  acceleration  model  \\\n0    18.0          8           307        130    3504          12.0     70   \n1    15.0          8           350        165    3693          11.5     70   \n2    18.0          8           318        150    3436          11.0     70   \n3    16.0          8           304        150    3433          12.0     70   \n4    17.0          8           302        140    3449          10.5     70   \n..    ...        ...           ...        ...     ...           ...    ...   \n193  24.0          6           200         81    3012          17.6     76   \n194  22.5          6           232         90    3085          17.6     76   \n195  29.0          4            85         52    2035          22.2     76   \n196  24.5          4            98         60    2164          22.1     76   \n197  29.0          4            90         70    1937          14.2     76   \n\n     origin                        car  Unnamed: 9  Unnamed: 10  Unnamed: 11  \\\n0         1  chevrolet chevelle malibu         NaN          NaN          NaN   \n1         1          buick skylark 320         NaN          NaN          NaN   \n2         1         plymouth satellite         NaN          NaN          NaN   \n3         1              amc rebel sst         NaN          NaN          NaN   \n4         1                ford torino         NaN          NaN          NaN   \n..      ...                        ...         ...          ...          ...   \n193       1              ford maverick         NaN          NaN          NaN   \n194       1                 amc hornet         NaN          NaN          NaN   \n195       1         chevrolet chevette         NaN          NaN          NaN   \n196       1            chevrolet woody         NaN          NaN          NaN   \n197       2                  vw rabbit         NaN          NaN          NaN   \n\n     Unnamed: 12  Unnamed: 13  \n0            NaN          NaN  \n1            NaN          NaN  \n2            NaN          NaN  \n3            NaN          NaN  \n4            NaN          NaN  \n..           ...          ...  \n193          NaN          NaN  \n194          NaN          NaN  \n195          NaN          NaN  \n196          NaN          NaN  \n197          NaN          NaN  \n\n[198 rows x 14 columns]\n      mpg  cylinders  displacement horsepower  weight  acceleration  model  \\\n0    33.0          4            91         53    1795          17.4     76   \n1    20.0          6           225        100    3651          17.7     76   \n2    18.0          6           250         78    3574          21.0     76   \n3    18.5          6           250        110    3645          16.2     76   \n4    17.5          6           258         95    3193          17.8     76   \n..    ...        ...           ...        ...     ...           ...    ...   \n195  27.0          4           140         86    2790          15.6     82   \n196  44.0          4            97         52    2130          24.6     82   \n197  32.0          4           135         84    2295          11.6     82   \n198  28.0          4           120         79    2625          18.6     82   \n199  31.0          4           119         82    2720          19.4     82   \n\n     origin                 car  \n0         3         honda civic  \n1         1      dodge aspen se  \n2         1   ford granada ghia  \n3         1  pontiac ventura sj  \n4         1       amc pacer d/l  \n..      ...                 ...  \n195       1     ford mustang gl  \n196       2           vw pickup  \n197       1       dodge rampage  \n198       1         ford ranger  \n199       1          chevy s-10  \n\n[200 rows x 9 columns]\n"
    }
   ],
   "source": [
    "cars1=pd.read_csv('cars1.csv',sep=',')\n",
    "cars2=pd.read_csv('cars2.csv',sep=',')\n",
    "print(cars1)\n",
    "print(cars2)"
   ]
  },
  {
   "cell_type": "markdown",
   "metadata": {},
   "source": [
    "### Step 4. Ops it seems our first dataset has some unnamed blank columns, fix cars1"
   ]
  },
  {
   "cell_type": "code",
   "execution_count": 37,
   "metadata": {},
   "outputs": [
    {
     "data": {
      "text/html": "<div>\n<style scoped>\n    .dataframe tbody tr th:only-of-type {\n        vertical-align: middle;\n    }\n\n    .dataframe tbody tr th {\n        vertical-align: top;\n    }\n\n    .dataframe thead th {\n        text-align: right;\n    }\n</style>\n<table border=\"1\" class=\"dataframe\">\n  <thead>\n    <tr style=\"text-align: right;\">\n      <th></th>\n      <th>mpg</th>\n      <th>cylinders</th>\n      <th>displacement</th>\n      <th>horsepower</th>\n      <th>weight</th>\n      <th>acceleration</th>\n      <th>model</th>\n      <th>origin</th>\n      <th>car</th>\n    </tr>\n  </thead>\n  <tbody>\n    <tr>\n      <td>0</td>\n      <td>18.0</td>\n      <td>8</td>\n      <td>307</td>\n      <td>130</td>\n      <td>3504</td>\n      <td>12.0</td>\n      <td>70</td>\n      <td>1</td>\n      <td>chevrolet chevelle malibu</td>\n    </tr>\n    <tr>\n      <td>1</td>\n      <td>15.0</td>\n      <td>8</td>\n      <td>350</td>\n      <td>165</td>\n      <td>3693</td>\n      <td>11.5</td>\n      <td>70</td>\n      <td>1</td>\n      <td>buick skylark 320</td>\n    </tr>\n    <tr>\n      <td>2</td>\n      <td>18.0</td>\n      <td>8</td>\n      <td>318</td>\n      <td>150</td>\n      <td>3436</td>\n      <td>11.0</td>\n      <td>70</td>\n      <td>1</td>\n      <td>plymouth satellite</td>\n    </tr>\n    <tr>\n      <td>3</td>\n      <td>16.0</td>\n      <td>8</td>\n      <td>304</td>\n      <td>150</td>\n      <td>3433</td>\n      <td>12.0</td>\n      <td>70</td>\n      <td>1</td>\n      <td>amc rebel sst</td>\n    </tr>\n    <tr>\n      <td>4</td>\n      <td>17.0</td>\n      <td>8</td>\n      <td>302</td>\n      <td>140</td>\n      <td>3449</td>\n      <td>10.5</td>\n      <td>70</td>\n      <td>1</td>\n      <td>ford torino</td>\n    </tr>\n    <tr>\n      <td>...</td>\n      <td>...</td>\n      <td>...</td>\n      <td>...</td>\n      <td>...</td>\n      <td>...</td>\n      <td>...</td>\n      <td>...</td>\n      <td>...</td>\n      <td>...</td>\n    </tr>\n    <tr>\n      <td>193</td>\n      <td>24.0</td>\n      <td>6</td>\n      <td>200</td>\n      <td>81</td>\n      <td>3012</td>\n      <td>17.6</td>\n      <td>76</td>\n      <td>1</td>\n      <td>ford maverick</td>\n    </tr>\n    <tr>\n      <td>194</td>\n      <td>22.5</td>\n      <td>6</td>\n      <td>232</td>\n      <td>90</td>\n      <td>3085</td>\n      <td>17.6</td>\n      <td>76</td>\n      <td>1</td>\n      <td>amc hornet</td>\n    </tr>\n    <tr>\n      <td>195</td>\n      <td>29.0</td>\n      <td>4</td>\n      <td>85</td>\n      <td>52</td>\n      <td>2035</td>\n      <td>22.2</td>\n      <td>76</td>\n      <td>1</td>\n      <td>chevrolet chevette</td>\n    </tr>\n    <tr>\n      <td>196</td>\n      <td>24.5</td>\n      <td>4</td>\n      <td>98</td>\n      <td>60</td>\n      <td>2164</td>\n      <td>22.1</td>\n      <td>76</td>\n      <td>1</td>\n      <td>chevrolet woody</td>\n    </tr>\n    <tr>\n      <td>197</td>\n      <td>29.0</td>\n      <td>4</td>\n      <td>90</td>\n      <td>70</td>\n      <td>1937</td>\n      <td>14.2</td>\n      <td>76</td>\n      <td>2</td>\n      <td>vw rabbit</td>\n    </tr>\n  </tbody>\n</table>\n<p>198 rows × 9 columns</p>\n</div>",
      "text/plain": "      mpg  cylinders  displacement horsepower  weight  acceleration  model  \\\n0    18.0          8           307        130    3504          12.0     70   \n1    15.0          8           350        165    3693          11.5     70   \n2    18.0          8           318        150    3436          11.0     70   \n3    16.0          8           304        150    3433          12.0     70   \n4    17.0          8           302        140    3449          10.5     70   \n..    ...        ...           ...        ...     ...           ...    ...   \n193  24.0          6           200         81    3012          17.6     76   \n194  22.5          6           232         90    3085          17.6     76   \n195  29.0          4            85         52    2035          22.2     76   \n196  24.5          4            98         60    2164          22.1     76   \n197  29.0          4            90         70    1937          14.2     76   \n\n     origin                        car  \n0         1  chevrolet chevelle malibu  \n1         1          buick skylark 320  \n2         1         plymouth satellite  \n3         1              amc rebel sst  \n4         1                ford torino  \n..      ...                        ...  \n193       1              ford maverick  \n194       1                 amc hornet  \n195       1         chevrolet chevette  \n196       1            chevrolet woody  \n197       2                  vw rabbit  \n\n[198 rows x 9 columns]"
     },
     "execution_count": 37,
     "metadata": {},
     "output_type": "execute_result"
    }
   ],
   "source": [
    "cars1=cars1.loc[:,\"mpg\":\"car\"]\n",
    "cars1"
   ]
  },
  {
   "cell_type": "markdown",
   "metadata": {},
   "source": [
    "### Step 5. What is the number of observations in each dataset?"
   ]
  },
  {
   "cell_type": "code",
   "execution_count": 38,
   "metadata": {},
   "outputs": [
    {
     "name": "stdout",
     "output_type": "stream",
     "text": "(198, 9)\n(200, 9)\n"
    }
   ],
   "source": [
    "print(cars1.shape)\n",
    "print(cars2.shape)"
   ]
  },
  {
   "cell_type": "markdown",
   "metadata": {},
   "source": [
    "### Step 6. Join cars1 and cars2 into a single DataFrame called cars"
   ]
  },
  {
   "cell_type": "code",
   "execution_count": 39,
   "metadata": {},
   "outputs": [
    {
     "data": {
      "text/html": "<div>\n<style scoped>\n    .dataframe tbody tr th:only-of-type {\n        vertical-align: middle;\n    }\n\n    .dataframe tbody tr th {\n        vertical-align: top;\n    }\n\n    .dataframe thead th {\n        text-align: right;\n    }\n</style>\n<table border=\"1\" class=\"dataframe\">\n  <thead>\n    <tr style=\"text-align: right;\">\n      <th></th>\n      <th>mpg</th>\n      <th>cylinders</th>\n      <th>displacement</th>\n      <th>horsepower</th>\n      <th>weight</th>\n      <th>acceleration</th>\n      <th>model</th>\n      <th>origin</th>\n      <th>car</th>\n    </tr>\n  </thead>\n  <tbody>\n    <tr>\n      <td>0</td>\n      <td>18.0</td>\n      <td>8</td>\n      <td>307</td>\n      <td>130</td>\n      <td>3504</td>\n      <td>12.0</td>\n      <td>70</td>\n      <td>1</td>\n      <td>chevrolet chevelle malibu</td>\n    </tr>\n    <tr>\n      <td>1</td>\n      <td>15.0</td>\n      <td>8</td>\n      <td>350</td>\n      <td>165</td>\n      <td>3693</td>\n      <td>11.5</td>\n      <td>70</td>\n      <td>1</td>\n      <td>buick skylark 320</td>\n    </tr>\n    <tr>\n      <td>2</td>\n      <td>18.0</td>\n      <td>8</td>\n      <td>318</td>\n      <td>150</td>\n      <td>3436</td>\n      <td>11.0</td>\n      <td>70</td>\n      <td>1</td>\n      <td>plymouth satellite</td>\n    </tr>\n    <tr>\n      <td>3</td>\n      <td>16.0</td>\n      <td>8</td>\n      <td>304</td>\n      <td>150</td>\n      <td>3433</td>\n      <td>12.0</td>\n      <td>70</td>\n      <td>1</td>\n      <td>amc rebel sst</td>\n    </tr>\n    <tr>\n      <td>4</td>\n      <td>17.0</td>\n      <td>8</td>\n      <td>302</td>\n      <td>140</td>\n      <td>3449</td>\n      <td>10.5</td>\n      <td>70</td>\n      <td>1</td>\n      <td>ford torino</td>\n    </tr>\n    <tr>\n      <td>...</td>\n      <td>...</td>\n      <td>...</td>\n      <td>...</td>\n      <td>...</td>\n      <td>...</td>\n      <td>...</td>\n      <td>...</td>\n      <td>...</td>\n      <td>...</td>\n    </tr>\n    <tr>\n      <td>195</td>\n      <td>27.0</td>\n      <td>4</td>\n      <td>140</td>\n      <td>86</td>\n      <td>2790</td>\n      <td>15.6</td>\n      <td>82</td>\n      <td>1</td>\n      <td>ford mustang gl</td>\n    </tr>\n    <tr>\n      <td>196</td>\n      <td>44.0</td>\n      <td>4</td>\n      <td>97</td>\n      <td>52</td>\n      <td>2130</td>\n      <td>24.6</td>\n      <td>82</td>\n      <td>2</td>\n      <td>vw pickup</td>\n    </tr>\n    <tr>\n      <td>197</td>\n      <td>32.0</td>\n      <td>4</td>\n      <td>135</td>\n      <td>84</td>\n      <td>2295</td>\n      <td>11.6</td>\n      <td>82</td>\n      <td>1</td>\n      <td>dodge rampage</td>\n    </tr>\n    <tr>\n      <td>198</td>\n      <td>28.0</td>\n      <td>4</td>\n      <td>120</td>\n      <td>79</td>\n      <td>2625</td>\n      <td>18.6</td>\n      <td>82</td>\n      <td>1</td>\n      <td>ford ranger</td>\n    </tr>\n    <tr>\n      <td>199</td>\n      <td>31.0</td>\n      <td>4</td>\n      <td>119</td>\n      <td>82</td>\n      <td>2720</td>\n      <td>19.4</td>\n      <td>82</td>\n      <td>1</td>\n      <td>chevy s-10</td>\n    </tr>\n  </tbody>\n</table>\n<p>398 rows × 9 columns</p>\n</div>",
      "text/plain": "      mpg  cylinders  displacement horsepower  weight  acceleration  model  \\\n0    18.0          8           307        130    3504          12.0     70   \n1    15.0          8           350        165    3693          11.5     70   \n2    18.0          8           318        150    3436          11.0     70   \n3    16.0          8           304        150    3433          12.0     70   \n4    17.0          8           302        140    3449          10.5     70   \n..    ...        ...           ...        ...     ...           ...    ...   \n195  27.0          4           140         86    2790          15.6     82   \n196  44.0          4            97         52    2130          24.6     82   \n197  32.0          4           135         84    2295          11.6     82   \n198  28.0          4           120         79    2625          18.6     82   \n199  31.0          4           119         82    2720          19.4     82   \n\n     origin                        car  \n0         1  chevrolet chevelle malibu  \n1         1          buick skylark 320  \n2         1         plymouth satellite  \n3         1              amc rebel sst  \n4         1                ford torino  \n..      ...                        ...  \n195       1            ford mustang gl  \n196       2                  vw pickup  \n197       1              dodge rampage  \n198       1                ford ranger  \n199       1                 chevy s-10  \n\n[398 rows x 9 columns]"
     },
     "execution_count": 39,
     "metadata": {},
     "output_type": "execute_result"
    }
   ],
   "source": [
    "cars=cars1.append(cars2)\n",
    "cars"
   ]
  },
  {
   "cell_type": "markdown",
   "metadata": {},
   "source": [
    "### Step 7. Ops there is a column missing, called owners. Create a random number Series from 15,000 to 73,000."
   ]
  },
  {
   "cell_type": "code",
   "execution_count": 44,
   "metadata": {},
   "outputs": [
    {
     "data": {
      "text/plain": "array([31117, 56339, 61301, 43752, 53716, 39581, 70423, 49401, 66594,\n       47004, 17289, 33818, 28374, 47208, 45951, 20903, 59906, 66602,\n       57920, 62231, 42141, 20813, 52721, 44028, 68278, 31902, 59835,\n       66767, 28886, 17004, 27090, 62000, 33572, 27407, 65556, 31184,\n       56350, 32736, 48302, 24568, 27443, 22704, 21214, 21357, 56917,\n       70882, 72557, 19937, 30086, 54297, 35481, 61470, 31570, 59960,\n       19332, 31090, 23541, 35230, 72845, 19298, 67447, 21378, 64322,\n       44838, 33903, 41589, 36004, 59273, 30203, 50666, 29572, 71673,\n       72761, 29915, 16678, 16556, 60171, 22049, 47307, 38523, 70731,\n       47407, 39116, 59076, 25968, 34067, 34113, 34217, 31747, 66815,\n       50182, 34477, 47381, 55398, 23601, 23814, 72697, 50863, 58190,\n       32080, 38303, 56741, 31142, 53569, 32686, 26086, 21627, 72217,\n       28431, 70751, 47636, 45474, 51060, 60756, 32419, 35780, 20017,\n       35985, 56683, 50576, 57896, 37564, 29660, 69520, 30520, 55034,\n       20810, 52375, 47543, 24078, 68570, 22847, 57162, 58121, 54444,\n       57831, 67975, 28527, 71908, 28838, 65609, 71901, 72650, 60095,\n       26002, 43995, 41399, 62569, 25017, 70440, 21884, 43905, 49214,\n       33792, 32633, 26184, 24880, 15808, 61863, 49532, 37402, 22058,\n       54030, 33444, 30220, 69910, 44984, 43217, 25235, 18296, 45715,\n       17543, 47605, 44882, 57830, 69662, 17681, 41840, 41266, 23836,\n       55440, 43669, 17410, 39976, 67044, 41345, 18356, 40703, 34859,\n       34689, 51254, 68864, 69520, 72175, 72963, 37686, 15274, 61072,\n       38085, 61500, 34781, 27622, 60120, 26915, 21784, 25034, 59129,\n       36695, 47604, 63512, 52689, 47868, 40263, 31995, 71329, 35143,\n       49472, 49149, 70388, 45916, 70378, 31272, 55416, 27286, 24618,\n       39766, 64138, 60241, 43839, 36747, 16007, 53724, 65527, 31394,\n       57590, 29655, 69629, 53493, 57583, 20353, 26107, 50218, 18678,\n       43271, 28667, 71577, 64553, 18414, 66887, 52879, 53062, 33649,\n       55221, 17240, 18573, 68459, 41178, 45201, 48407, 27369, 59684,\n       38023, 42065, 68726, 24973, 46315, 16233, 65820, 19760, 67133,\n       53359, 22213, 58593, 16939, 33658, 50607, 38488, 45551, 15101,\n       66946, 39563, 31282, 34128, 22874, 37796, 59758, 61987, 50611,\n       25002, 38072, 61845, 36005, 66096, 21237, 65218, 47760, 37262,\n       45438, 22719, 41811, 38726, 37145, 20656, 18589, 57881, 62623,\n       22084, 70727, 21069, 65857, 47416, 19897, 51402, 40621, 40795,\n       26173, 63432, 51855, 31014, 64529, 23470, 39023, 70321, 27296,\n       32845, 54733, 52828, 27508, 49688, 15808, 39747, 24260, 68721,\n       26389, 65523, 35575, 63093, 16770, 70130, 54873, 27861, 55156,\n       52328, 63603, 25784, 22140, 19861, 15265, 56231, 51796, 49529,\n       69410, 29760, 56841, 66337, 33274, 46913, 60466, 40856, 34111,\n       53462, 31101, 72673, 25562, 56223, 60361, 45225, 56150, 70634,\n       59708, 23087, 30525, 52420, 32651, 35617, 62815, 29523, 20063,\n       27581, 21829, 38063, 16028, 59209, 71363, 48474, 20139, 18285,\n       22527, 27453, 17937, 72202, 52356, 16804, 25588, 38134, 62036,\n       71218, 34437])"
     },
     "execution_count": 44,
     "metadata": {},
     "output_type": "execute_result"
    }
   ],
   "source": [
    "owners = np.random.randint(15000, 73001, size=398, dtype='l')\n",
    "owners"
   ]
  },
  {
   "cell_type": "markdown",
   "metadata": {},
   "source": [
    "### Step 8. Add the column owners to cars"
   ]
  },
  {
   "cell_type": "code",
   "execution_count": 47,
   "metadata": {},
   "outputs": [
    {
     "data": {
      "text/plain": "Index(['mpg', 'cylinders', 'displacement', 'horsepower', 'weight',\n       'acceleration', 'model', 'origin', 'car', 'owners'],\n      dtype='object')"
     },
     "execution_count": 47,
     "metadata": {},
     "output_type": "execute_result"
    }
   ],
   "source": [
    "cars['owners']=owners\n",
    "cars.columns"
   ]
  }
 ],
 "metadata": {
  "anaconda-cloud": {},
  "kernelspec": {
   "display_name": "Python 3.7.4 64-bit ('base': conda)",
   "language": "python",
   "name": "python37464bitbasecondad56398eedfb74bf491f14bc88721c312"
  },
  "language_info": {
   "codemirror_mode": {
    "name": "ipython",
    "version": 2
   },
   "file_extension": ".py",
   "mimetype": "text/x-python",
   "name": "python",
   "nbconvert_exporter": "python",
   "pygments_lexer": "ipython2",
   "version": "3.7.4-final"
  }
 },
 "nbformat": 4,
 "nbformat_minor": 0
}