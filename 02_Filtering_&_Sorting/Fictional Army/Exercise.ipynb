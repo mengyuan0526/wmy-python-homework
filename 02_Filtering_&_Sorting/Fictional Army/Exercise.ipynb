{
 "cells": [
  {
   "cell_type": "markdown",
   "metadata": {},
   "source": [
    "# Fictional Army - Filtering and Sorting"
   ]
  },
  {
   "cell_type": "markdown",
   "metadata": {},
   "source": [
    "### Introduction:\n",
    "\n",
    "This exercise was inspired by this [page](http://chrisalbon.com/python/)\n",
    "\n",
    "Special thanks to: https://github.com/chrisalbon for sharing the dataset and materials.\n",
    "\n",
    "### Step 1. Import the necessary libraries"
   ]
  },
  {
   "cell_type": "code",
   "execution_count": 59,
   "metadata": {},
   "outputs": [],
   "source": [
    "import pandas as pd\n",
    "import numpy as np"
   ]
  },
  {
   "cell_type": "markdown",
   "metadata": {},
   "source": [
    "### Step 2. This is the data given as a dictionary"
   ]
  },
  {
   "cell_type": "code",
   "execution_count": 60,
   "metadata": {},
   "outputs": [],
   "source": [
    "# Create an example dataframe about a fictional army\n",
    "raw_data = {'regiment': ['Nighthawks', 'Nighthawks', 'Nighthawks', 'Nighthawks', 'Dragoons', 'Dragoons', 'Dragoons', 'Dragoons', 'Scouts', 'Scouts', 'Scouts', 'Scouts'],\n",
    "            'company': ['1st', '1st', '2nd', '2nd', '1st', '1st', '2nd', '2nd','1st', '1st', '2nd', '2nd'],\n",
    "            'deaths': [523, 52, 25, 616, 43, 234, 523, 62, 62, 73, 37, 35],\n",
    "            'battles': [5, 42, 2, 2, 4, 7, 8, 3, 4, 7, 8, 9],\n",
    "            'size': [1045, 957, 1099, 1400, 1592, 1006, 987, 849, 973, 1005, 1099, 1523],\n",
    "            'veterans': [1, 5, 62, 26, 73, 37, 949, 48, 48, 435, 63, 345],\n",
    "            'readiness': [1, 2, 3, 3, 2, 1, 2, 3, 2, 1, 2, 3],\n",
    "            'armored': [1, 0, 1, 1, 0, 1, 0, 1, 0, 0, 1, 1],\n",
    "            'deserters': [4, 24, 31, 2, 3, 4, 24, 31, 2, 3, 2, 3],\n",
    "            'origin': ['Arizona', 'California', 'Texas', 'Florida', 'Maine', 'Iowa', 'Alaska', 'Washington', 'Oregon', 'Wyoming', 'Louisana', 'Georgia']}"
   ]
  },
  {
   "cell_type": "markdown",
   "metadata": {},
   "source": [
    "### Step 3. Create a dataframe and assign it to a variable called army. \n",
    "\n",
    "#### Don't forget to include the columns names in the order presented in the dictionary ('regiment', 'company', 'deaths'...) so that the column index order is consistent with the solutions. If omitted, pandas will order the columns alphabetically."
   ]
  },
  {
   "cell_type": "code",
   "execution_count": 61,
   "metadata": {},
   "outputs": [
    {
     "data": {
      "text/html": "<div>\n<style scoped>\n    .dataframe tbody tr th:only-of-type {\n        vertical-align: middle;\n    }\n\n    .dataframe tbody tr th {\n        vertical-align: top;\n    }\n\n    .dataframe thead th {\n        text-align: right;\n    }\n</style>\n<table border=\"1\" class=\"dataframe\">\n  <thead>\n    <tr style=\"text-align: right;\">\n      <th></th>\n      <th>regiment</th>\n      <th>company</th>\n      <th>deaths</th>\n      <th>battles</th>\n      <th>size</th>\n      <th>veterans</th>\n      <th>readiness</th>\n      <th>armored</th>\n      <th>deserters</th>\n      <th>origin</th>\n    </tr>\n  </thead>\n  <tbody>\n    <tr>\n      <td>0</td>\n      <td>Nighthawks</td>\n      <td>1st</td>\n      <td>523</td>\n      <td>5</td>\n      <td>1045</td>\n      <td>1</td>\n      <td>1</td>\n      <td>1</td>\n      <td>4</td>\n      <td>Arizona</td>\n    </tr>\n    <tr>\n      <td>1</td>\n      <td>Nighthawks</td>\n      <td>1st</td>\n      <td>52</td>\n      <td>42</td>\n      <td>957</td>\n      <td>5</td>\n      <td>2</td>\n      <td>0</td>\n      <td>24</td>\n      <td>California</td>\n    </tr>\n    <tr>\n      <td>2</td>\n      <td>Nighthawks</td>\n      <td>2nd</td>\n      <td>25</td>\n      <td>2</td>\n      <td>1099</td>\n      <td>62</td>\n      <td>3</td>\n      <td>1</td>\n      <td>31</td>\n      <td>Texas</td>\n    </tr>\n    <tr>\n      <td>3</td>\n      <td>Nighthawks</td>\n      <td>2nd</td>\n      <td>616</td>\n      <td>2</td>\n      <td>1400</td>\n      <td>26</td>\n      <td>3</td>\n      <td>1</td>\n      <td>2</td>\n      <td>Florida</td>\n    </tr>\n    <tr>\n      <td>4</td>\n      <td>Dragoons</td>\n      <td>1st</td>\n      <td>43</td>\n      <td>4</td>\n      <td>1592</td>\n      <td>73</td>\n      <td>2</td>\n      <td>0</td>\n      <td>3</td>\n      <td>Maine</td>\n    </tr>\n    <tr>\n      <td>5</td>\n      <td>Dragoons</td>\n      <td>1st</td>\n      <td>234</td>\n      <td>7</td>\n      <td>1006</td>\n      <td>37</td>\n      <td>1</td>\n      <td>1</td>\n      <td>4</td>\n      <td>Iowa</td>\n    </tr>\n    <tr>\n      <td>6</td>\n      <td>Dragoons</td>\n      <td>2nd</td>\n      <td>523</td>\n      <td>8</td>\n      <td>987</td>\n      <td>949</td>\n      <td>2</td>\n      <td>0</td>\n      <td>24</td>\n      <td>Alaska</td>\n    </tr>\n    <tr>\n      <td>7</td>\n      <td>Dragoons</td>\n      <td>2nd</td>\n      <td>62</td>\n      <td>3</td>\n      <td>849</td>\n      <td>48</td>\n      <td>3</td>\n      <td>1</td>\n      <td>31</td>\n      <td>Washington</td>\n    </tr>\n    <tr>\n      <td>8</td>\n      <td>Scouts</td>\n      <td>1st</td>\n      <td>62</td>\n      <td>4</td>\n      <td>973</td>\n      <td>48</td>\n      <td>2</td>\n      <td>0</td>\n      <td>2</td>\n      <td>Oregon</td>\n    </tr>\n    <tr>\n      <td>9</td>\n      <td>Scouts</td>\n      <td>1st</td>\n      <td>73</td>\n      <td>7</td>\n      <td>1005</td>\n      <td>435</td>\n      <td>1</td>\n      <td>0</td>\n      <td>3</td>\n      <td>Wyoming</td>\n    </tr>\n    <tr>\n      <td>10</td>\n      <td>Scouts</td>\n      <td>2nd</td>\n      <td>37</td>\n      <td>8</td>\n      <td>1099</td>\n      <td>63</td>\n      <td>2</td>\n      <td>1</td>\n      <td>2</td>\n      <td>Louisana</td>\n    </tr>\n    <tr>\n      <td>11</td>\n      <td>Scouts</td>\n      <td>2nd</td>\n      <td>35</td>\n      <td>9</td>\n      <td>1523</td>\n      <td>345</td>\n      <td>3</td>\n      <td>1</td>\n      <td>3</td>\n      <td>Georgia</td>\n    </tr>\n  </tbody>\n</table>\n</div>",
      "text/plain": "      regiment company  deaths  battles  size  veterans  readiness  armored  \\\n0   Nighthawks     1st     523        5  1045         1          1        1   \n1   Nighthawks     1st      52       42   957         5          2        0   \n2   Nighthawks     2nd      25        2  1099        62          3        1   \n3   Nighthawks     2nd     616        2  1400        26          3        1   \n4     Dragoons     1st      43        4  1592        73          2        0   \n5     Dragoons     1st     234        7  1006        37          1        1   \n6     Dragoons     2nd     523        8   987       949          2        0   \n7     Dragoons     2nd      62        3   849        48          3        1   \n8       Scouts     1st      62        4   973        48          2        0   \n9       Scouts     1st      73        7  1005       435          1        0   \n10      Scouts     2nd      37        8  1099        63          2        1   \n11      Scouts     2nd      35        9  1523       345          3        1   \n\n    deserters      origin  \n0           4     Arizona  \n1          24  California  \n2          31       Texas  \n3           2     Florida  \n4           3       Maine  \n5           4        Iowa  \n6          24      Alaska  \n7          31  Washington  \n8           2      Oregon  \n9           3     Wyoming  \n10          2    Louisana  \n11          3     Georgia  "
     },
     "execution_count": 61,
     "metadata": {},
     "output_type": "execute_result"
    }
   ],
   "source": [
    "army=pd.DataFrame(raw_data,columns=['regiment','company','deaths','battles','size','veterans','readiness','armored','deserters','origin'])\n",
    "army"
   ]
  },
  {
   "cell_type": "markdown",
   "metadata": {},
   "source": [
    "### Step 4. Set the 'origin' colum as the index of the dataframe"
   ]
  },
  {
   "cell_type": "code",
   "execution_count": 62,
   "metadata": {},
   "outputs": [
    {
     "data": {
      "text/html": "<div>\n<style scoped>\n    .dataframe tbody tr th:only-of-type {\n        vertical-align: middle;\n    }\n\n    .dataframe tbody tr th {\n        vertical-align: top;\n    }\n\n    .dataframe thead th {\n        text-align: right;\n    }\n</style>\n<table border=\"1\" class=\"dataframe\">\n  <thead>\n    <tr style=\"text-align: right;\">\n      <th></th>\n      <th>regiment</th>\n      <th>company</th>\n      <th>deaths</th>\n      <th>battles</th>\n      <th>size</th>\n      <th>veterans</th>\n      <th>readiness</th>\n      <th>armored</th>\n      <th>deserters</th>\n    </tr>\n    <tr>\n      <th>origin</th>\n      <th></th>\n      <th></th>\n      <th></th>\n      <th></th>\n      <th></th>\n      <th></th>\n      <th></th>\n      <th></th>\n      <th></th>\n    </tr>\n  </thead>\n  <tbody>\n    <tr>\n      <td>Arizona</td>\n      <td>Nighthawks</td>\n      <td>1st</td>\n      <td>523</td>\n      <td>5</td>\n      <td>1045</td>\n      <td>1</td>\n      <td>1</td>\n      <td>1</td>\n      <td>4</td>\n    </tr>\n    <tr>\n      <td>California</td>\n      <td>Nighthawks</td>\n      <td>1st</td>\n      <td>52</td>\n      <td>42</td>\n      <td>957</td>\n      <td>5</td>\n      <td>2</td>\n      <td>0</td>\n      <td>24</td>\n    </tr>\n    <tr>\n      <td>Texas</td>\n      <td>Nighthawks</td>\n      <td>2nd</td>\n      <td>25</td>\n      <td>2</td>\n      <td>1099</td>\n      <td>62</td>\n      <td>3</td>\n      <td>1</td>\n      <td>31</td>\n    </tr>\n    <tr>\n      <td>Florida</td>\n      <td>Nighthawks</td>\n      <td>2nd</td>\n      <td>616</td>\n      <td>2</td>\n      <td>1400</td>\n      <td>26</td>\n      <td>3</td>\n      <td>1</td>\n      <td>2</td>\n    </tr>\n    <tr>\n      <td>Maine</td>\n      <td>Dragoons</td>\n      <td>1st</td>\n      <td>43</td>\n      <td>4</td>\n      <td>1592</td>\n      <td>73</td>\n      <td>2</td>\n      <td>0</td>\n      <td>3</td>\n    </tr>\n    <tr>\n      <td>Iowa</td>\n      <td>Dragoons</td>\n      <td>1st</td>\n      <td>234</td>\n      <td>7</td>\n      <td>1006</td>\n      <td>37</td>\n      <td>1</td>\n      <td>1</td>\n      <td>4</td>\n    </tr>\n    <tr>\n      <td>Alaska</td>\n      <td>Dragoons</td>\n      <td>2nd</td>\n      <td>523</td>\n      <td>8</td>\n      <td>987</td>\n      <td>949</td>\n      <td>2</td>\n      <td>0</td>\n      <td>24</td>\n    </tr>\n    <tr>\n      <td>Washington</td>\n      <td>Dragoons</td>\n      <td>2nd</td>\n      <td>62</td>\n      <td>3</td>\n      <td>849</td>\n      <td>48</td>\n      <td>3</td>\n      <td>1</td>\n      <td>31</td>\n    </tr>\n    <tr>\n      <td>Oregon</td>\n      <td>Scouts</td>\n      <td>1st</td>\n      <td>62</td>\n      <td>4</td>\n      <td>973</td>\n      <td>48</td>\n      <td>2</td>\n      <td>0</td>\n      <td>2</td>\n    </tr>\n    <tr>\n      <td>Wyoming</td>\n      <td>Scouts</td>\n      <td>1st</td>\n      <td>73</td>\n      <td>7</td>\n      <td>1005</td>\n      <td>435</td>\n      <td>1</td>\n      <td>0</td>\n      <td>3</td>\n    </tr>\n    <tr>\n      <td>Louisana</td>\n      <td>Scouts</td>\n      <td>2nd</td>\n      <td>37</td>\n      <td>8</td>\n      <td>1099</td>\n      <td>63</td>\n      <td>2</td>\n      <td>1</td>\n      <td>2</td>\n    </tr>\n    <tr>\n      <td>Georgia</td>\n      <td>Scouts</td>\n      <td>2nd</td>\n      <td>35</td>\n      <td>9</td>\n      <td>1523</td>\n      <td>345</td>\n      <td>3</td>\n      <td>1</td>\n      <td>3</td>\n    </tr>\n  </tbody>\n</table>\n</div>",
      "text/plain": "              regiment company  deaths  battles  size  veterans  readiness  \\\norigin                                                                       \nArizona     Nighthawks     1st     523        5  1045         1          1   \nCalifornia  Nighthawks     1st      52       42   957         5          2   \nTexas       Nighthawks     2nd      25        2  1099        62          3   \nFlorida     Nighthawks     2nd     616        2  1400        26          3   \nMaine         Dragoons     1st      43        4  1592        73          2   \nIowa          Dragoons     1st     234        7  1006        37          1   \nAlaska        Dragoons     2nd     523        8   987       949          2   \nWashington    Dragoons     2nd      62        3   849        48          3   \nOregon          Scouts     1st      62        4   973        48          2   \nWyoming         Scouts     1st      73        7  1005       435          1   \nLouisana        Scouts     2nd      37        8  1099        63          2   \nGeorgia         Scouts     2nd      35        9  1523       345          3   \n\n            armored  deserters  \norigin                          \nArizona           1          4  \nCalifornia        0         24  \nTexas             1         31  \nFlorida           1          2  \nMaine             0          3  \nIowa              1          4  \nAlaska            0         24  \nWashington        1         31  \nOregon            0          2  \nWyoming           0          3  \nLouisana          1          2  \nGeorgia           1          3  "
     },
     "execution_count": 62,
     "metadata": {},
     "output_type": "execute_result"
    }
   ],
   "source": [
    "army.set_index('origin')"
   ]
  },
  {
   "cell_type": "markdown",
   "metadata": {},
   "source": [
    "### Step 5. Print only the column veterans"
   ]
  },
  {
   "cell_type": "code",
   "execution_count": 63,
   "metadata": {},
   "outputs": [
    {
     "data": {
      "text/plain": "0       1\n1       5\n2      62\n3      26\n4      73\n5      37\n6     949\n7      48\n8      48\n9     435\n10     63\n11    345\nName: veterans, dtype: int64"
     },
     "execution_count": 63,
     "metadata": {},
     "output_type": "execute_result"
    }
   ],
   "source": [
    "army.veterans"
   ]
  },
  {
   "cell_type": "markdown",
   "metadata": {},
   "source": [
    "### Step 6. Print the columns 'veterans' and 'deaths'"
   ]
  },
  {
   "cell_type": "code",
   "execution_count": 64,
   "metadata": {},
   "outputs": [
    {
     "data": {
      "text/html": "<div>\n<style scoped>\n    .dataframe tbody tr th:only-of-type {\n        vertical-align: middle;\n    }\n\n    .dataframe tbody tr th {\n        vertical-align: top;\n    }\n\n    .dataframe thead th {\n        text-align: right;\n    }\n</style>\n<table border=\"1\" class=\"dataframe\">\n  <thead>\n    <tr style=\"text-align: right;\">\n      <th></th>\n      <th>veterans</th>\n      <th>deaths</th>\n    </tr>\n  </thead>\n  <tbody>\n    <tr>\n      <td>0</td>\n      <td>1</td>\n      <td>523</td>\n    </tr>\n    <tr>\n      <td>1</td>\n      <td>5</td>\n      <td>52</td>\n    </tr>\n    <tr>\n      <td>2</td>\n      <td>62</td>\n      <td>25</td>\n    </tr>\n    <tr>\n      <td>3</td>\n      <td>26</td>\n      <td>616</td>\n    </tr>\n    <tr>\n      <td>4</td>\n      <td>73</td>\n      <td>43</td>\n    </tr>\n    <tr>\n      <td>5</td>\n      <td>37</td>\n      <td>234</td>\n    </tr>\n    <tr>\n      <td>6</td>\n      <td>949</td>\n      <td>523</td>\n    </tr>\n    <tr>\n      <td>7</td>\n      <td>48</td>\n      <td>62</td>\n    </tr>\n    <tr>\n      <td>8</td>\n      <td>48</td>\n      <td>62</td>\n    </tr>\n    <tr>\n      <td>9</td>\n      <td>435</td>\n      <td>73</td>\n    </tr>\n    <tr>\n      <td>10</td>\n      <td>63</td>\n      <td>37</td>\n    </tr>\n    <tr>\n      <td>11</td>\n      <td>345</td>\n      <td>35</td>\n    </tr>\n  </tbody>\n</table>\n</div>",
      "text/plain": "    veterans  deaths\n0          1     523\n1          5      52\n2         62      25\n3         26     616\n4         73      43\n5         37     234\n6        949     523\n7         48      62\n8         48      62\n9        435      73\n10        63      37\n11       345      35"
     },
     "execution_count": 64,
     "metadata": {},
     "output_type": "execute_result"
    }
   ],
   "source": [
    "army[['veterans','deaths']]"
   ]
  },
  {
   "cell_type": "markdown",
   "metadata": {},
   "source": [
    "### Step 7. Print the name of all the columns."
   ]
  },
  {
   "cell_type": "code",
   "execution_count": 65,
   "metadata": {},
   "outputs": [
    {
     "data": {
      "text/plain": "Index(['regiment', 'company', 'deaths', 'battles', 'size', 'veterans',\n       'readiness', 'armored', 'deserters', 'origin'],\n      dtype='object')"
     },
     "execution_count": 65,
     "metadata": {},
     "output_type": "execute_result"
    }
   ],
   "source": [
    "army.columns"
   ]
  },
  {
   "cell_type": "markdown",
   "metadata": {},
   "source": [
    "### Step 8. Select the 'deaths', 'size' and 'deserters' columns from Maine and Alaska"
   ]
  },
  {
   "cell_type": "code",
   "execution_count": 66,
   "metadata": {},
   "outputs": [
    {
     "data": {
      "text/html": "<div>\n<style scoped>\n    .dataframe tbody tr th:only-of-type {\n        vertical-align: middle;\n    }\n\n    .dataframe tbody tr th {\n        vertical-align: top;\n    }\n\n    .dataframe thead th {\n        text-align: right;\n    }\n</style>\n<table border=\"1\" class=\"dataframe\">\n  <thead>\n    <tr style=\"text-align: right;\">\n      <th></th>\n      <th>deaths</th>\n      <th>size</th>\n      <th>deserters</th>\n      <th>origin</th>\n    </tr>\n  </thead>\n  <tbody>\n    <tr>\n      <td>4</td>\n      <td>43</td>\n      <td>1592</td>\n      <td>3</td>\n      <td>Maine</td>\n    </tr>\n    <tr>\n      <td>6</td>\n      <td>523</td>\n      <td>987</td>\n      <td>24</td>\n      <td>Alaska</td>\n    </tr>\n  </tbody>\n</table>\n</div>",
      "text/plain": "   deaths  size  deserters  origin\n4      43  1592          3   Maine\n6     523   987         24  Alaska"
     },
     "execution_count": 66,
     "metadata": {},
     "output_type": "execute_result"
    }
   ],
   "source": [
    "x=army[army.origin.isin(['Maine','Alaska'])]\n",
    "x[['deaths','size','deserters','origin']]"
   ]
  },
  {
   "cell_type": "markdown",
   "metadata": {},
   "source": [
    "### Step 9. Select the rows 3 to 7 and the columns 3 to 6"
   ]
  },
  {
   "cell_type": "code",
   "execution_count": 67,
   "metadata": {},
   "outputs": [
    {
     "data": {
      "text/html": "<div>\n<style scoped>\n    .dataframe tbody tr th:only-of-type {\n        vertical-align: middle;\n    }\n\n    .dataframe tbody tr th {\n        vertical-align: top;\n    }\n\n    .dataframe thead th {\n        text-align: right;\n    }\n</style>\n<table border=\"1\" class=\"dataframe\">\n  <thead>\n    <tr style=\"text-align: right;\">\n      <th></th>\n      <th>battles</th>\n      <th>size</th>\n      <th>veterans</th>\n    </tr>\n  </thead>\n  <tbody>\n    <tr>\n      <td>3</td>\n      <td>2</td>\n      <td>1400</td>\n      <td>26</td>\n    </tr>\n    <tr>\n      <td>4</td>\n      <td>4</td>\n      <td>1592</td>\n      <td>73</td>\n    </tr>\n    <tr>\n      <td>5</td>\n      <td>7</td>\n      <td>1006</td>\n      <td>37</td>\n    </tr>\n    <tr>\n      <td>6</td>\n      <td>8</td>\n      <td>987</td>\n      <td>949</td>\n    </tr>\n  </tbody>\n</table>\n</div>",
      "text/plain": "   battles  size  veterans\n3        2  1400        26\n4        4  1592        73\n5        7  1006        37\n6        8   987       949"
     },
     "execution_count": 67,
     "metadata": {},
     "output_type": "execute_result"
    }
   ],
   "source": [
    "army.iloc[3:7,3:6]"
   ]
  },
  {
   "cell_type": "markdown",
   "metadata": {},
   "source": [
    "### Step 10. Select every row after the fourth row and all columns"
   ]
  },
  {
   "cell_type": "code",
   "execution_count": 68,
   "metadata": {},
   "outputs": [
    {
     "data": {
      "text/html": "<div>\n<style scoped>\n    .dataframe tbody tr th:only-of-type {\n        vertical-align: middle;\n    }\n\n    .dataframe tbody tr th {\n        vertical-align: top;\n    }\n\n    .dataframe thead th {\n        text-align: right;\n    }\n</style>\n<table border=\"1\" class=\"dataframe\">\n  <thead>\n    <tr style=\"text-align: right;\">\n      <th></th>\n      <th>regiment</th>\n      <th>company</th>\n      <th>deaths</th>\n      <th>battles</th>\n      <th>size</th>\n      <th>veterans</th>\n      <th>readiness</th>\n      <th>armored</th>\n      <th>deserters</th>\n      <th>origin</th>\n    </tr>\n  </thead>\n  <tbody>\n    <tr>\n      <td>3</td>\n      <td>Nighthawks</td>\n      <td>2nd</td>\n      <td>616</td>\n      <td>2</td>\n      <td>1400</td>\n      <td>26</td>\n      <td>3</td>\n      <td>1</td>\n      <td>2</td>\n      <td>Florida</td>\n    </tr>\n    <tr>\n      <td>4</td>\n      <td>Dragoons</td>\n      <td>1st</td>\n      <td>43</td>\n      <td>4</td>\n      <td>1592</td>\n      <td>73</td>\n      <td>2</td>\n      <td>0</td>\n      <td>3</td>\n      <td>Maine</td>\n    </tr>\n    <tr>\n      <td>5</td>\n      <td>Dragoons</td>\n      <td>1st</td>\n      <td>234</td>\n      <td>7</td>\n      <td>1006</td>\n      <td>37</td>\n      <td>1</td>\n      <td>1</td>\n      <td>4</td>\n      <td>Iowa</td>\n    </tr>\n    <tr>\n      <td>6</td>\n      <td>Dragoons</td>\n      <td>2nd</td>\n      <td>523</td>\n      <td>8</td>\n      <td>987</td>\n      <td>949</td>\n      <td>2</td>\n      <td>0</td>\n      <td>24</td>\n      <td>Alaska</td>\n    </tr>\n    <tr>\n      <td>7</td>\n      <td>Dragoons</td>\n      <td>2nd</td>\n      <td>62</td>\n      <td>3</td>\n      <td>849</td>\n      <td>48</td>\n      <td>3</td>\n      <td>1</td>\n      <td>31</td>\n      <td>Washington</td>\n    </tr>\n    <tr>\n      <td>8</td>\n      <td>Scouts</td>\n      <td>1st</td>\n      <td>62</td>\n      <td>4</td>\n      <td>973</td>\n      <td>48</td>\n      <td>2</td>\n      <td>0</td>\n      <td>2</td>\n      <td>Oregon</td>\n    </tr>\n    <tr>\n      <td>9</td>\n      <td>Scouts</td>\n      <td>1st</td>\n      <td>73</td>\n      <td>7</td>\n      <td>1005</td>\n      <td>435</td>\n      <td>1</td>\n      <td>0</td>\n      <td>3</td>\n      <td>Wyoming</td>\n    </tr>\n    <tr>\n      <td>10</td>\n      <td>Scouts</td>\n      <td>2nd</td>\n      <td>37</td>\n      <td>8</td>\n      <td>1099</td>\n      <td>63</td>\n      <td>2</td>\n      <td>1</td>\n      <td>2</td>\n      <td>Louisana</td>\n    </tr>\n    <tr>\n      <td>11</td>\n      <td>Scouts</td>\n      <td>2nd</td>\n      <td>35</td>\n      <td>9</td>\n      <td>1523</td>\n      <td>345</td>\n      <td>3</td>\n      <td>1</td>\n      <td>3</td>\n      <td>Georgia</td>\n    </tr>\n  </tbody>\n</table>\n</div>",
      "text/plain": "      regiment company  deaths  battles  size  veterans  readiness  armored  \\\n3   Nighthawks     2nd     616        2  1400        26          3        1   \n4     Dragoons     1st      43        4  1592        73          2        0   \n5     Dragoons     1st     234        7  1006        37          1        1   \n6     Dragoons     2nd     523        8   987       949          2        0   \n7     Dragoons     2nd      62        3   849        48          3        1   \n8       Scouts     1st      62        4   973        48          2        0   \n9       Scouts     1st      73        7  1005       435          1        0   \n10      Scouts     2nd      37        8  1099        63          2        1   \n11      Scouts     2nd      35        9  1523       345          3        1   \n\n    deserters      origin  \n3           2     Florida  \n4           3       Maine  \n5           4        Iowa  \n6          24      Alaska  \n7          31  Washington  \n8           2      Oregon  \n9           3     Wyoming  \n10          2    Louisana  \n11          3     Georgia  "
     },
     "execution_count": 68,
     "metadata": {},
     "output_type": "execute_result"
    }
   ],
   "source": [
    "army.iloc[3:]"
   ]
  },
  {
   "cell_type": "markdown",
   "metadata": {},
   "source": [
    "### Step 11. Select every row up to the 4th row and all columns"
   ]
  },
  {
   "cell_type": "code",
   "execution_count": 69,
   "metadata": {},
   "outputs": [
    {
     "data": {
      "text/html": "<div>\n<style scoped>\n    .dataframe tbody tr th:only-of-type {\n        vertical-align: middle;\n    }\n\n    .dataframe tbody tr th {\n        vertical-align: top;\n    }\n\n    .dataframe thead th {\n        text-align: right;\n    }\n</style>\n<table border=\"1\" class=\"dataframe\">\n  <thead>\n    <tr style=\"text-align: right;\">\n      <th></th>\n      <th>regiment</th>\n      <th>company</th>\n      <th>deaths</th>\n      <th>battles</th>\n      <th>size</th>\n      <th>veterans</th>\n      <th>readiness</th>\n      <th>armored</th>\n      <th>deserters</th>\n      <th>origin</th>\n    </tr>\n  </thead>\n  <tbody>\n    <tr>\n      <td>0</td>\n      <td>Nighthawks</td>\n      <td>1st</td>\n      <td>523</td>\n      <td>5</td>\n      <td>1045</td>\n      <td>1</td>\n      <td>1</td>\n      <td>1</td>\n      <td>4</td>\n      <td>Arizona</td>\n    </tr>\n    <tr>\n      <td>1</td>\n      <td>Nighthawks</td>\n      <td>1st</td>\n      <td>52</td>\n      <td>42</td>\n      <td>957</td>\n      <td>5</td>\n      <td>2</td>\n      <td>0</td>\n      <td>24</td>\n      <td>California</td>\n    </tr>\n    <tr>\n      <td>2</td>\n      <td>Nighthawks</td>\n      <td>2nd</td>\n      <td>25</td>\n      <td>2</td>\n      <td>1099</td>\n      <td>62</td>\n      <td>3</td>\n      <td>1</td>\n      <td>31</td>\n      <td>Texas</td>\n    </tr>\n  </tbody>\n</table>\n</div>",
      "text/plain": "     regiment company  deaths  battles  size  veterans  readiness  armored  \\\n0  Nighthawks     1st     523        5  1045         1          1        1   \n1  Nighthawks     1st      52       42   957         5          2        0   \n2  Nighthawks     2nd      25        2  1099        62          3        1   \n\n   deserters      origin  \n0          4     Arizona  \n1         24  California  \n2         31       Texas  "
     },
     "execution_count": 69,
     "metadata": {},
     "output_type": "execute_result"
    }
   ],
   "source": [
    "army.iloc[:3]"
   ]
  },
  {
   "cell_type": "markdown",
   "metadata": {},
   "source": [
    "### Step 12. Select the 3rd column up to the 7th column"
   ]
  },
  {
   "cell_type": "code",
   "execution_count": 70,
   "metadata": {},
   "outputs": [
    {
     "data": {
      "text/html": "<div>\n<style scoped>\n    .dataframe tbody tr th:only-of-type {\n        vertical-align: middle;\n    }\n\n    .dataframe tbody tr th {\n        vertical-align: top;\n    }\n\n    .dataframe thead th {\n        text-align: right;\n    }\n</style>\n<table border=\"1\" class=\"dataframe\">\n  <thead>\n    <tr style=\"text-align: right;\">\n      <th></th>\n      <th>deaths</th>\n      <th>battles</th>\n      <th>size</th>\n      <th>veterans</th>\n      <th>readiness</th>\n    </tr>\n  </thead>\n  <tbody>\n    <tr>\n      <td>0</td>\n      <td>523</td>\n      <td>5</td>\n      <td>1045</td>\n      <td>1</td>\n      <td>1</td>\n    </tr>\n    <tr>\n      <td>1</td>\n      <td>52</td>\n      <td>42</td>\n      <td>957</td>\n      <td>5</td>\n      <td>2</td>\n    </tr>\n    <tr>\n      <td>2</td>\n      <td>25</td>\n      <td>2</td>\n      <td>1099</td>\n      <td>62</td>\n      <td>3</td>\n    </tr>\n    <tr>\n      <td>3</td>\n      <td>616</td>\n      <td>2</td>\n      <td>1400</td>\n      <td>26</td>\n      <td>3</td>\n    </tr>\n    <tr>\n      <td>4</td>\n      <td>43</td>\n      <td>4</td>\n      <td>1592</td>\n      <td>73</td>\n      <td>2</td>\n    </tr>\n    <tr>\n      <td>5</td>\n      <td>234</td>\n      <td>7</td>\n      <td>1006</td>\n      <td>37</td>\n      <td>1</td>\n    </tr>\n    <tr>\n      <td>6</td>\n      <td>523</td>\n      <td>8</td>\n      <td>987</td>\n      <td>949</td>\n      <td>2</td>\n    </tr>\n    <tr>\n      <td>7</td>\n      <td>62</td>\n      <td>3</td>\n      <td>849</td>\n      <td>48</td>\n      <td>3</td>\n    </tr>\n    <tr>\n      <td>8</td>\n      <td>62</td>\n      <td>4</td>\n      <td>973</td>\n      <td>48</td>\n      <td>2</td>\n    </tr>\n    <tr>\n      <td>9</td>\n      <td>73</td>\n      <td>7</td>\n      <td>1005</td>\n      <td>435</td>\n      <td>1</td>\n    </tr>\n    <tr>\n      <td>10</td>\n      <td>37</td>\n      <td>8</td>\n      <td>1099</td>\n      <td>63</td>\n      <td>2</td>\n    </tr>\n    <tr>\n      <td>11</td>\n      <td>35</td>\n      <td>9</td>\n      <td>1523</td>\n      <td>345</td>\n      <td>3</td>\n    </tr>\n  </tbody>\n</table>\n</div>",
      "text/plain": "    deaths  battles  size  veterans  readiness\n0      523        5  1045         1          1\n1       52       42   957         5          2\n2       25        2  1099        62          3\n3      616        2  1400        26          3\n4       43        4  1592        73          2\n5      234        7  1006        37          1\n6      523        8   987       949          2\n7       62        3   849        48          3\n8       62        4   973        48          2\n9       73        7  1005       435          1\n10      37        8  1099        63          2\n11      35        9  1523       345          3"
     },
     "execution_count": 70,
     "metadata": {},
     "output_type": "execute_result"
    }
   ],
   "source": [
    "army.iloc[:,2:7]"
   ]
  },
  {
   "cell_type": "markdown",
   "metadata": {},
   "source": [
    "### Step 13. Select rows where df.deaths is greater than 50"
   ]
  },
  {
   "cell_type": "code",
   "execution_count": 71,
   "metadata": {},
   "outputs": [
    {
     "data": {
      "text/html": "<div>\n<style scoped>\n    .dataframe tbody tr th:only-of-type {\n        vertical-align: middle;\n    }\n\n    .dataframe tbody tr th {\n        vertical-align: top;\n    }\n\n    .dataframe thead th {\n        text-align: right;\n    }\n</style>\n<table border=\"1\" class=\"dataframe\">\n  <thead>\n    <tr style=\"text-align: right;\">\n      <th></th>\n      <th>regiment</th>\n      <th>company</th>\n      <th>deaths</th>\n      <th>battles</th>\n      <th>size</th>\n      <th>veterans</th>\n      <th>readiness</th>\n      <th>armored</th>\n      <th>deserters</th>\n      <th>origin</th>\n    </tr>\n  </thead>\n  <tbody>\n    <tr>\n      <td>0</td>\n      <td>Nighthawks</td>\n      <td>1st</td>\n      <td>523</td>\n      <td>5</td>\n      <td>1045</td>\n      <td>1</td>\n      <td>1</td>\n      <td>1</td>\n      <td>4</td>\n      <td>Arizona</td>\n    </tr>\n    <tr>\n      <td>1</td>\n      <td>Nighthawks</td>\n      <td>1st</td>\n      <td>52</td>\n      <td>42</td>\n      <td>957</td>\n      <td>5</td>\n      <td>2</td>\n      <td>0</td>\n      <td>24</td>\n      <td>California</td>\n    </tr>\n    <tr>\n      <td>3</td>\n      <td>Nighthawks</td>\n      <td>2nd</td>\n      <td>616</td>\n      <td>2</td>\n      <td>1400</td>\n      <td>26</td>\n      <td>3</td>\n      <td>1</td>\n      <td>2</td>\n      <td>Florida</td>\n    </tr>\n    <tr>\n      <td>5</td>\n      <td>Dragoons</td>\n      <td>1st</td>\n      <td>234</td>\n      <td>7</td>\n      <td>1006</td>\n      <td>37</td>\n      <td>1</td>\n      <td>1</td>\n      <td>4</td>\n      <td>Iowa</td>\n    </tr>\n    <tr>\n      <td>6</td>\n      <td>Dragoons</td>\n      <td>2nd</td>\n      <td>523</td>\n      <td>8</td>\n      <td>987</td>\n      <td>949</td>\n      <td>2</td>\n      <td>0</td>\n      <td>24</td>\n      <td>Alaska</td>\n    </tr>\n    <tr>\n      <td>7</td>\n      <td>Dragoons</td>\n      <td>2nd</td>\n      <td>62</td>\n      <td>3</td>\n      <td>849</td>\n      <td>48</td>\n      <td>3</td>\n      <td>1</td>\n      <td>31</td>\n      <td>Washington</td>\n    </tr>\n    <tr>\n      <td>8</td>\n      <td>Scouts</td>\n      <td>1st</td>\n      <td>62</td>\n      <td>4</td>\n      <td>973</td>\n      <td>48</td>\n      <td>2</td>\n      <td>0</td>\n      <td>2</td>\n      <td>Oregon</td>\n    </tr>\n    <tr>\n      <td>9</td>\n      <td>Scouts</td>\n      <td>1st</td>\n      <td>73</td>\n      <td>7</td>\n      <td>1005</td>\n      <td>435</td>\n      <td>1</td>\n      <td>0</td>\n      <td>3</td>\n      <td>Wyoming</td>\n    </tr>\n  </tbody>\n</table>\n</div>",
      "text/plain": "     regiment company  deaths  battles  size  veterans  readiness  armored  \\\n0  Nighthawks     1st     523        5  1045         1          1        1   \n1  Nighthawks     1st      52       42   957         5          2        0   \n3  Nighthawks     2nd     616        2  1400        26          3        1   \n5    Dragoons     1st     234        7  1006        37          1        1   \n6    Dragoons     2nd     523        8   987       949          2        0   \n7    Dragoons     2nd      62        3   849        48          3        1   \n8      Scouts     1st      62        4   973        48          2        0   \n9      Scouts     1st      73        7  1005       435          1        0   \n\n   deserters      origin  \n0          4     Arizona  \n1         24  California  \n3          2     Florida  \n5          4        Iowa  \n6         24      Alaska  \n7         31  Washington  \n8          2      Oregon  \n9          3     Wyoming  "
     },
     "execution_count": 71,
     "metadata": {},
     "output_type": "execute_result"
    }
   ],
   "source": [
    "army[army.deaths>50]"
   ]
  },
  {
   "cell_type": "markdown",
   "metadata": {},
   "source": [
    "### Step 14. Select rows where df.deaths is greater than 500 or less than 50"
   ]
  },
  {
   "cell_type": "code",
   "execution_count": 72,
   "metadata": {},
   "outputs": [
    {
     "data": {
      "text/html": "<div>\n<style scoped>\n    .dataframe tbody tr th:only-of-type {\n        vertical-align: middle;\n    }\n\n    .dataframe tbody tr th {\n        vertical-align: top;\n    }\n\n    .dataframe thead th {\n        text-align: right;\n    }\n</style>\n<table border=\"1\" class=\"dataframe\">\n  <thead>\n    <tr style=\"text-align: right;\">\n      <th></th>\n      <th>regiment</th>\n      <th>company</th>\n      <th>deaths</th>\n      <th>battles</th>\n      <th>size</th>\n      <th>veterans</th>\n      <th>readiness</th>\n      <th>armored</th>\n      <th>deserters</th>\n      <th>origin</th>\n    </tr>\n  </thead>\n  <tbody>\n    <tr>\n      <td>0</td>\n      <td>Nighthawks</td>\n      <td>1st</td>\n      <td>523</td>\n      <td>5</td>\n      <td>1045</td>\n      <td>1</td>\n      <td>1</td>\n      <td>1</td>\n      <td>4</td>\n      <td>Arizona</td>\n    </tr>\n    <tr>\n      <td>2</td>\n      <td>Nighthawks</td>\n      <td>2nd</td>\n      <td>25</td>\n      <td>2</td>\n      <td>1099</td>\n      <td>62</td>\n      <td>3</td>\n      <td>1</td>\n      <td>31</td>\n      <td>Texas</td>\n    </tr>\n    <tr>\n      <td>3</td>\n      <td>Nighthawks</td>\n      <td>2nd</td>\n      <td>616</td>\n      <td>2</td>\n      <td>1400</td>\n      <td>26</td>\n      <td>3</td>\n      <td>1</td>\n      <td>2</td>\n      <td>Florida</td>\n    </tr>\n    <tr>\n      <td>4</td>\n      <td>Dragoons</td>\n      <td>1st</td>\n      <td>43</td>\n      <td>4</td>\n      <td>1592</td>\n      <td>73</td>\n      <td>2</td>\n      <td>0</td>\n      <td>3</td>\n      <td>Maine</td>\n    </tr>\n    <tr>\n      <td>6</td>\n      <td>Dragoons</td>\n      <td>2nd</td>\n      <td>523</td>\n      <td>8</td>\n      <td>987</td>\n      <td>949</td>\n      <td>2</td>\n      <td>0</td>\n      <td>24</td>\n      <td>Alaska</td>\n    </tr>\n    <tr>\n      <td>10</td>\n      <td>Scouts</td>\n      <td>2nd</td>\n      <td>37</td>\n      <td>8</td>\n      <td>1099</td>\n      <td>63</td>\n      <td>2</td>\n      <td>1</td>\n      <td>2</td>\n      <td>Louisana</td>\n    </tr>\n    <tr>\n      <td>11</td>\n      <td>Scouts</td>\n      <td>2nd</td>\n      <td>35</td>\n      <td>9</td>\n      <td>1523</td>\n      <td>345</td>\n      <td>3</td>\n      <td>1</td>\n      <td>3</td>\n      <td>Georgia</td>\n    </tr>\n  </tbody>\n</table>\n</div>",
      "text/plain": "      regiment company  deaths  battles  size  veterans  readiness  armored  \\\n0   Nighthawks     1st     523        5  1045         1          1        1   \n2   Nighthawks     2nd      25        2  1099        62          3        1   \n3   Nighthawks     2nd     616        2  1400        26          3        1   \n4     Dragoons     1st      43        4  1592        73          2        0   \n6     Dragoons     2nd     523        8   987       949          2        0   \n10      Scouts     2nd      37        8  1099        63          2        1   \n11      Scouts     2nd      35        9  1523       345          3        1   \n\n    deserters    origin  \n0           4   Arizona  \n2          31     Texas  \n3           2   Florida  \n4           3     Maine  \n6          24    Alaska  \n10          2  Louisana  \n11          3   Georgia  "
     },
     "execution_count": 72,
     "metadata": {},
     "output_type": "execute_result"
    }
   ],
   "source": [
    "army[(army.deaths>500)|(army.deaths<50)]"
   ]
  },
  {
   "cell_type": "markdown",
   "metadata": {},
   "source": [
    "### Step 15. Select all the regiments not named \"Dragoons\""
   ]
  },
  {
   "cell_type": "code",
   "execution_count": 73,
   "metadata": {},
   "outputs": [
    {
     "data": {
      "text/html": "<div>\n<style scoped>\n    .dataframe tbody tr th:only-of-type {\n        vertical-align: middle;\n    }\n\n    .dataframe tbody tr th {\n        vertical-align: top;\n    }\n\n    .dataframe thead th {\n        text-align: right;\n    }\n</style>\n<table border=\"1\" class=\"dataframe\">\n  <thead>\n    <tr style=\"text-align: right;\">\n      <th></th>\n      <th>regiment</th>\n      <th>company</th>\n      <th>deaths</th>\n      <th>battles</th>\n      <th>size</th>\n      <th>veterans</th>\n      <th>readiness</th>\n      <th>armored</th>\n      <th>deserters</th>\n      <th>origin</th>\n    </tr>\n  </thead>\n  <tbody>\n    <tr>\n      <td>0</td>\n      <td>Nighthawks</td>\n      <td>1st</td>\n      <td>523</td>\n      <td>5</td>\n      <td>1045</td>\n      <td>1</td>\n      <td>1</td>\n      <td>1</td>\n      <td>4</td>\n      <td>Arizona</td>\n    </tr>\n    <tr>\n      <td>1</td>\n      <td>Nighthawks</td>\n      <td>1st</td>\n      <td>52</td>\n      <td>42</td>\n      <td>957</td>\n      <td>5</td>\n      <td>2</td>\n      <td>0</td>\n      <td>24</td>\n      <td>California</td>\n    </tr>\n    <tr>\n      <td>2</td>\n      <td>Nighthawks</td>\n      <td>2nd</td>\n      <td>25</td>\n      <td>2</td>\n      <td>1099</td>\n      <td>62</td>\n      <td>3</td>\n      <td>1</td>\n      <td>31</td>\n      <td>Texas</td>\n    </tr>\n    <tr>\n      <td>3</td>\n      <td>Nighthawks</td>\n      <td>2nd</td>\n      <td>616</td>\n      <td>2</td>\n      <td>1400</td>\n      <td>26</td>\n      <td>3</td>\n      <td>1</td>\n      <td>2</td>\n      <td>Florida</td>\n    </tr>\n    <tr>\n      <td>8</td>\n      <td>Scouts</td>\n      <td>1st</td>\n      <td>62</td>\n      <td>4</td>\n      <td>973</td>\n      <td>48</td>\n      <td>2</td>\n      <td>0</td>\n      <td>2</td>\n      <td>Oregon</td>\n    </tr>\n    <tr>\n      <td>9</td>\n      <td>Scouts</td>\n      <td>1st</td>\n      <td>73</td>\n      <td>7</td>\n      <td>1005</td>\n      <td>435</td>\n      <td>1</td>\n      <td>0</td>\n      <td>3</td>\n      <td>Wyoming</td>\n    </tr>\n    <tr>\n      <td>10</td>\n      <td>Scouts</td>\n      <td>2nd</td>\n      <td>37</td>\n      <td>8</td>\n      <td>1099</td>\n      <td>63</td>\n      <td>2</td>\n      <td>1</td>\n      <td>2</td>\n      <td>Louisana</td>\n    </tr>\n    <tr>\n      <td>11</td>\n      <td>Scouts</td>\n      <td>2nd</td>\n      <td>35</td>\n      <td>9</td>\n      <td>1523</td>\n      <td>345</td>\n      <td>3</td>\n      <td>1</td>\n      <td>3</td>\n      <td>Georgia</td>\n    </tr>\n  </tbody>\n</table>\n</div>",
      "text/plain": "      regiment company  deaths  battles  size  veterans  readiness  armored  \\\n0   Nighthawks     1st     523        5  1045         1          1        1   \n1   Nighthawks     1st      52       42   957         5          2        0   \n2   Nighthawks     2nd      25        2  1099        62          3        1   \n3   Nighthawks     2nd     616        2  1400        26          3        1   \n8       Scouts     1st      62        4   973        48          2        0   \n9       Scouts     1st      73        7  1005       435          1        0   \n10      Scouts     2nd      37        8  1099        63          2        1   \n11      Scouts     2nd      35        9  1523       345          3        1   \n\n    deserters      origin  \n0           4     Arizona  \n1          24  California  \n2          31       Texas  \n3           2     Florida  \n8           2      Oregon  \n9           3     Wyoming  \n10          2    Louisana  \n11          3     Georgia  "
     },
     "execution_count": 73,
     "metadata": {},
     "output_type": "execute_result"
    }
   ],
   "source": [
    "army[army['regiment']!=\"Dragoons\"]"
   ]
  },
  {
   "cell_type": "markdown",
   "metadata": {},
   "source": [
    "### Step 16. Select the rows called Texas and Arizona"
   ]
  },
  {
   "cell_type": "code",
   "execution_count": 74,
   "metadata": {},
   "outputs": [
    {
     "data": {
      "text/html": "<div>\n<style scoped>\n    .dataframe tbody tr th:only-of-type {\n        vertical-align: middle;\n    }\n\n    .dataframe tbody tr th {\n        vertical-align: top;\n    }\n\n    .dataframe thead th {\n        text-align: right;\n    }\n</style>\n<table border=\"1\" class=\"dataframe\">\n  <thead>\n    <tr style=\"text-align: right;\">\n      <th></th>\n      <th>regiment</th>\n      <th>company</th>\n      <th>deaths</th>\n      <th>battles</th>\n      <th>size</th>\n      <th>veterans</th>\n      <th>readiness</th>\n      <th>armored</th>\n      <th>deserters</th>\n      <th>origin</th>\n    </tr>\n  </thead>\n  <tbody>\n    <tr>\n      <td>0</td>\n      <td>Nighthawks</td>\n      <td>1st</td>\n      <td>523</td>\n      <td>5</td>\n      <td>1045</td>\n      <td>1</td>\n      <td>1</td>\n      <td>1</td>\n      <td>4</td>\n      <td>Arizona</td>\n    </tr>\n    <tr>\n      <td>2</td>\n      <td>Nighthawks</td>\n      <td>2nd</td>\n      <td>25</td>\n      <td>2</td>\n      <td>1099</td>\n      <td>62</td>\n      <td>3</td>\n      <td>1</td>\n      <td>31</td>\n      <td>Texas</td>\n    </tr>\n  </tbody>\n</table>\n</div>",
      "text/plain": "     regiment company  deaths  battles  size  veterans  readiness  armored  \\\n0  Nighthawks     1st     523        5  1045         1          1        1   \n2  Nighthawks     2nd      25        2  1099        62          3        1   \n\n   deserters   origin  \n0          4  Arizona  \n2         31    Texas  "
     },
     "execution_count": 74,
     "metadata": {},
     "output_type": "execute_result"
    }
   ],
   "source": [
    "#army.loc['Texas','Arizona']\n",
    "army[army.origin.isin(['Texas','Arizona'])]"
   ]
  },
  {
   "cell_type": "markdown",
   "metadata": {},
   "source": [
    "### Step 17. Select the third cell in the row named Arizona"
   ]
  },
  {
   "cell_type": "code",
   "execution_count": 75,
   "metadata": {},
   "outputs": [
    {
     "data": {
      "text/plain": "0    523\nName: deaths, dtype: int64"
     },
     "execution_count": 75,
     "metadata": {},
     "output_type": "execute_result"
    }
   ],
   "source": [
    "a=army[army.origin.isin(['Arizona'])]\n",
    "a['deaths']"
   ]
  },
  {
   "cell_type": "markdown",
   "metadata": {},
   "source": [
    "### Step 18. Select the third cell down in the column named deaths"
   ]
  },
  {
   "cell_type": "code",
   "execution_count": 76,
   "metadata": {},
   "outputs": [
    {
     "data": {
      "text/plain": "25"
     },
     "execution_count": 76,
     "metadata": {},
     "output_type": "execute_result"
    }
   ],
   "source": [
    "army['deaths'][2]"
   ]
  }
 ],
 "metadata": {
  "kernelspec": {
   "display_name": "Python 3.7.4 64-bit ('base': conda)",
   "language": "python",
   "name": "python37464bitbasecondad56398eedfb74bf491f14bc88721c312"
  },
  "language_info": {
   "codemirror_mode": {
    "name": "ipython",
    "version": 3
   },
   "file_extension": ".py",
   "mimetype": "text/x-python",
   "name": "python",
   "nbconvert_exporter": "python",
   "pygments_lexer": "ipython3",
   "version": "3.7.4-final"
  }
 },
 "nbformat": 4,
 "nbformat_minor": 1
}